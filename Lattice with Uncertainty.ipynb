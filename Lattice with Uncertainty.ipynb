{
 "cells": [
  {
   "cell_type": "markdown",
   "metadata": {},
   "source": [
    "# 2-D Lattice Test #\n",
    "\n",
    "In this example, we run the VBMDS-GP with the 2-D Lattice as a test"
   ]
  },
  {
   "cell_type": "code",
   "execution_count": 1,
   "metadata": {
    "collapsed": false
   },
   "outputs": [
    {
     "name": "stderr",
     "output_type": "stream",
     "text": [
      "WARNING: requiring \"Dates\" in module \"Winston\" did not define a corresponding module.\n",
      "WARNING: module Winston should explicitly import * from Base\n",
      "INFO: Recompiling stale cache file /Users/haroldsoh/.julia/lib/v0.4/Distributions.ji for module Distributions.\n",
      "INFO: Recompiling stale cache file /Users/haroldsoh/.julia/lib/v0.4/ArrayViews.ji for module ArrayViews.\n",
      "INFO: Recompiling stale cache file /Users/haroldsoh/.julia/lib/v0.4/PDMats.ji for module PDMats.\n",
      "INFO: Recompiling stale cache file /Users/haroldsoh/.julia/lib/v0.4/StatsFuns.ji for module StatsFuns.\n",
      "INFO: Recompiling stale cache file /Users/haroldsoh/.julia/lib/v0.4/StatsBase.ji for module StatsBase.\n"
     ]
    }
   ],
   "source": [
    "using Winston\n",
    "using Distances\n",
    "using Distributions"
   ]
  },
  {
   "cell_type": "code",
   "execution_count": 12,
   "metadata": {
    "collapsed": false
   },
   "outputs": [
    {
     "name": "stdout",
     "output_type": "stream",
     "text": [
      "360\n"
     ]
    }
   ],
   "source": [
    "# create dataset\n",
    "# generate simple grid\n",
    "nX = 3^2\n",
    "X = zeros(nX,2)\n",
    "k = 1\n",
    "for i = 1:sqrt(nX), j = 1:sqrt(nX)\n",
    "    X[k,:] = 1.0*[i, j]\n",
    "    k = k+1\n",
    "end\n",
    "\n",
    "Mdist = pairwise(Euclidean(), X').^2\n",
    "k=1\n",
    "\n",
    "nreps = 5\n",
    "#nD = round(Int,((nX^2) - nX)/2)*nreps\n",
    "nD = (nX^2 - nX)*nreps\n",
    "println(nD)\n",
    "D = zeros(nD, 3)\n",
    "vn_true = 0.1\n",
    "for reps = 1:nreps\n",
    "    for i = 1:nX, j = 1:nX\n",
    "        if i!=j\n",
    "            d = LogNormal(log(Mdist[i,j]), sqrt(vn_true))\n",
    "            D[k,:] = [i, j, rand(d) ]\n",
    "            k = k+1\n",
    "        end\n",
    "    end\n",
    "end\n"
   ]
  },
  {
   "cell_type": "code",
   "execution_count": 13,
   "metadata": {
    "collapsed": false
   },
   "outputs": [
    {
     "data": {
      "text/plain": [
       "360x3 Array{Float64,2}:\n",
       " 1.0  2.0   0.639344\n",
       " 1.0  3.0   4.17377 \n",
       " 1.0  4.0   0.788752\n",
       " 1.0  5.0   2.11098 \n",
       " 1.0  6.0   3.02903 \n",
       " 1.0  7.0   2.14201 \n",
       " 1.0  8.0   5.1223  \n",
       " 1.0  9.0  10.3007  \n",
       " 2.0  1.0   0.792818\n",
       " 2.0  3.0   1.08558 \n",
       " 2.0  4.0   1.43555 \n",
       " 2.0  5.0   1.06516 \n",
       " 2.0  6.0   1.54964 \n",
       " ⋮                  \n",
       " 8.0  5.0   1.25576 \n",
       " 8.0  6.0   2.30388 \n",
       " 8.0  7.0   1.20943 \n",
       " 8.0  9.0   0.886463\n",
       " 9.0  1.0   7.10667 \n",
       " 9.0  2.0   3.02189 \n",
       " 9.0  3.0   4.59158 \n",
       " 9.0  4.0   6.30133 \n",
       " 9.0  5.0   3.4264  \n",
       " 9.0  6.0   0.610189\n",
       " 9.0  7.0   3.22338 \n",
       " 9.0  8.0   0.905564"
      ]
     },
     "execution_count": 13,
     "metadata": {},
     "output_type": "execute_result"
    }
   ],
   "source": [
    "D"
   ]
  },
  {
   "cell_type": "code",
   "execution_count": 14,
   "metadata": {
    "collapsed": false
   },
   "outputs": [
    {
     "data": {
      "text/plain": [
       "9x2 Array{Float64,2}:\n",
       " 1.0  1.0\n",
       " 1.0  2.0\n",
       " 1.0  3.0\n",
       " 2.0  1.0\n",
       " 2.0  2.0\n",
       " 2.0  3.0\n",
       " 3.0  1.0\n",
       " 3.0  2.0\n",
       " 3.0  3.0"
      ]
     },
     "execution_count": 14,
     "metadata": {},
     "output_type": "execute_result"
    }
   ],
   "source": [
    "X # this are the true underlying positions. "
   ]
  },
  {
   "cell_type": "code",
   "execution_count": 15,
   "metadata": {
    "collapsed": false
   },
   "outputs": [
    {
     "name": "stdout",
     "output_type": "stream",
     "text": [
      "Num Inducing inputs: 9\n"
     ]
    }
   ],
   "source": [
    "# side information\n",
    "# nonlinear transformation of the input coordinates\n",
    "Xtest = [2*X[:,1].^2 X[:,1].*X[:,2]]\n",
    "for i=1:size(Xtest,2)\n",
    "    Xtest[:,i] = Xtest[:,i]./maximum(Xtest[:,i])\n",
    "end\n",
    "Xfeat = Xtest\n",
    "\n",
    "# We set the inducing input locations with some noise\n",
    "Xu = Xtest # inducing input locations\n",
    "Xu = Xu + 0.05*rand(size(Xu))\n",
    "println(\"Num Inducing inputs: \",size(Xu,1))"
   ]
  },
  {
   "cell_type": "code",
   "execution_count": 16,
   "metadata": {
    "collapsed": false
   },
   "outputs": [
    {
     "name": "stderr",
     "output_type": "stream",
     "text": [
      "WARNING: replacing module vbmds\n"
     ]
    },
    {
     "data": {
      "text/plain": [
       "vbmds"
      ]
     },
     "execution_count": 16,
     "metadata": {},
     "output_type": "execute_result"
    }
   ],
   "source": [
    "include(\"vbmds.jl\") # load in the VBMDS code"
   ]
  },
  {
   "cell_type": "code",
   "execution_count": 20,
   "metadata": {
    "collapsed": false
   },
   "outputs": [
    {
     "name": "stdout",
     "output_type": "stream",
     "text": [
      "Parameters Set up!\n"
     ]
    }
   ],
   "source": [
    "# set up parameters\n",
    "srand(0)\n",
    "\n",
    "nZ = nX # number of latent points\n",
    "num_lower_dim = 2 # number of latent dimensions\n",
    "kfunc = vbmds.seARDkernel # kernel function\n",
    "lbfunc = vbmds.lognormalEucMixLB #likelihood lower bound\n",
    "#lbfunc = vbmds.normalSqEucLB\n",
    "hyp = [sqrt(0.02*ones(size(Xfeat,2)))]# hyperparameters\n",
    "m = [] # mean of inducing variables (set to [] if you want auto init)\n",
    "v = [] # diagonal of inducing variables (set to [] if you want auto init)\n",
    "mu = []\n",
    "s2 = 10.0*ones(nZ, num_lower_dim)\n",
    "vn = 0.1 #noise variance\n",
    "m0 = [] # initial prior for m (Set to [] if you want auto)\n",
    "v0 = [] # intiial prior for v (Set to [] if you want auto)\n",
    "mu0 = []\n",
    "s20 = .1*ones(nZ, num_lower_dim)\n",
    "init_method = \"random\"# \"random\" for random initialization, \"mds\" for MDS initialization\n",
    "mds_vn = 0.1\n",
    "\n",
    "params = vbmds.VBMDSMixParams(Xu, num_lower_dim, \n",
    "lbfunc, kfunc, \n",
    "hyp, \n",
    "m, v, \n",
    "mu, s2,\n",
    "vn, \n",
    "m0, v0,\n",
    "mu0, s20,\n",
    "init_method, mds_vn)\n",
    "println(\"Parameters Set up!\")"
   ]
  },
  {
   "cell_type": "code",
   "execution_count": 21,
   "metadata": {
    "collapsed": false,
    "scrolled": false
   },
   "outputs": [
    {
     "name": "stdout",
     "output_type": "stream",
     "text": [
      "Creating Parameters\n",
      "Setting up Fixed Variables\n",
      "Outer Iteration: 1\n",
      "Local Sample Iteration: 1\n",
      "Number Function Calls: 1756\n",
      "Number Gradient Calls: 1756\n",
      "2: 135.41881514897216\n",
      "Done, returning optimized parameters\n",
      "Done Optimizing.\n"
     ]
    }
   ],
   "source": [
    "nZ = nX\n",
    "Xfeat_local = []\n",
    "params = vbmds.VBMDSMix(D, Xfeat_local, nZ, params; \n",
    "opt_method=:gradient_descent,\n",
    "sample_size = 0, #run on all \n",
    "num_iterations= 1, \n",
    "opt_iterations = 500,\n",
    "opt_hyp_iterations = 5,\n",
    "opt_vn_iterations = 5,\n",
    "local_iterations= 1, \n",
    "report_interval=100, \n",
    "fixed_noise = true,\n",
    "fixed_hyp = true,\n",
    "show_trace = false,\n",
    "vlb = 1.0e-2,\n",
    "vub = 1.0,\n",
    "s2lb = 1.0e-4,\n",
    "s2ub = 100.0,\n",
    "vnlb = 1.0e-5,\n",
    "vnub = 1.0e-1,\n",
    "hyplb = sqrt(0.01),\n",
    "hypub = sqrt(100.0)\n",
    ")\n",
    "\n",
    "println(\"Done Optimizing.\")\n",
    "run(`say -v Allison \\\"Done Optimizing Lattice \\\"`)\n"
   ]
  },
  {
   "cell_type": "code",
   "execution_count": 22,
   "metadata": {
    "collapsed": false
   },
   "outputs": [
    {
     "data": {
      "image/png": "[encoded data removed]",
      "text/plain": [
       "Winston.FramedPlot(...)"
      ]
     },
     "execution_count": 22,
     "metadata": {},
     "output_type": "execute_result"
    }
   ],
   "source": [
    "# Prediction\n",
    "p = 0\n",
    "\n",
    "#plotting via Winston\n",
    "hold(false)\n",
    "if Xfeat_local != []\n",
    "    (mZ_pred, vZ_pred) = vbmds.VBMDSMix(0, Xfeat, nZ, params)\n",
    "    println(\"Using GP\")\n",
    "    errbarsx = SymmetricErrorBarsX(mZ_pred[:,1], mZ_pred[:,2], 2*sqrt(vZ_pred[:,1]))\n",
    "    errbarsy = SymmetricErrorBarsY(mZ_pred[:,1], mZ_pred[:,2], 2*sqrt(vZ_pred[:,2]))\n",
    "\n",
    "    p = scatter(mZ_pred[:,1], mZ_pred[:,2])\n",
    "    hold(true)\n",
    "    add(p, errbarsx)\n",
    "    add(p, errbarsy)\n",
    "end\n",
    "\n",
    "p = scatter(params.mu[:,1], params.mu[:,2])\n",
    "\n",
    "hold(true)\n",
    "errbarsx_z = SymmetricErrorBarsX(params.mu[:,1], params.mu[:,2], sqrt(params.s2[:,1]))\n",
    "errbarsy_z = SymmetricErrorBarsY(params.mu[:,1], params.mu[:,2], sqrt(params.s2[:,2]))\n",
    "add(p, errbarsx_z)\n",
    "add(p, errbarsy_z)\n",
    "p"
   ]
  },
  {
   "cell_type": "code",
   "execution_count": null,
   "metadata": {
    "collapsed": true
   },
   "outputs": [],
   "source": []
  },
  {
   "cell_type": "code",
   "execution_count": null,
   "metadata": {
    "collapsed": true
   },
   "outputs": [],
   "source": []
  }
 ],
 "metadata": {
  "kernelspec": {
   "display_name": "Julia 0.4.3",
   "language": "julia",
   "name": "julia-0.4"
  },
  "language_info": {
   "file_extension": ".jl",
   "mimetype": "application/julia",
   "name": "julia",
   "version": "0.4.3"
  }
 },
 "nbformat": 4,
 "nbformat_minor": 0
}
