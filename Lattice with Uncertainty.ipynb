{
 "cells": [
  {
   "cell_type": "markdown",
   "metadata": {},
   "source": [
    "# 2-D Lattice Test #\n",
    "\n",
    "In this example, we run the VBMDS-GP with the 2-D Lattice as a test"
   ]
  },
  {
   "cell_type": "code",
   "execution_count": 238,
   "metadata": {
    "collapsed": false
   },
   "outputs": [
    {
     "name": "stderr",
     "output_type": "stream",
     "text": [
      "WARNING: using Optim.clear! in module Main conflicts with an existing identifier.\n"
     ]
    }
   ],
   "source": [
    "using Winston\n",
    "using Distances\n",
    "using Distributions\n",
    "using Optim"
   ]
  },
  {
   "cell_type": "code",
   "execution_count": 366,
   "metadata": {
    "collapsed": false
   },
   "outputs": [
    {
     "name": "stdout",
     "output_type": "stream",
     "text": [
      "3000\n"
     ]
    }
   ],
   "source": [
    "# create dataset\n",
    "# generate simple grid\n",
    "nX = 5^2\n",
    "X = zeros(nX,2)\n",
    "k = 1\n",
    "for i = 1:sqrt(nX), j = 1:sqrt(nX)\n",
    "    X[k,:] = 1.0*[i, j]\n",
    "    k = k+1\n",
    "end\n",
    "\n",
    "Mdist = pairwise(Euclidean(), X').^2\n",
    "k=1\n",
    "\n",
    "nreps = 5\n",
    "#nD = round(Int,((nX^2) - nX)/2)*nreps\n",
    "nD = (nX^2 - nX)*nreps\n",
    "println(nD)\n",
    "D = zeros(nD, 3)\n",
    "vn_true = 1.0\n",
    "for reps = 1:nreps\n",
    "    for i = 1:nX, j = 1:nX\n",
    "        if i!=j\n",
    "            d = LogNormal(log(Mdist[i,j]), sqrt(vn_true))\n",
    "            D[k,:] = [i, j, rand(d) ]\n",
    "            k = k+1\n",
    "        end\n",
    "    end\n",
    "end\n"
   ]
  },
  {
   "cell_type": "code",
   "execution_count": 367,
   "metadata": {
    "collapsed": false
   },
   "outputs": [
    {
     "data": {
      "text/plain": [
       "3000×3 Array{Float64,2}:\n",
       "  1.0   2.0   0.355978\n",
       "  1.0   3.0   0.660832\n",
       "  1.0   4.0   2.80881 \n",
       "  1.0   5.0  53.7407  \n",
       "  1.0   6.0   1.09714 \n",
       "  1.0   7.0   0.559646\n",
       "  1.0   8.0  17.6376  \n",
       "  1.0   9.0   2.40471 \n",
       "  1.0  10.0  23.4426  \n",
       "  1.0  11.0   6.41788 \n",
       "  1.0  12.0   2.20207 \n",
       "  1.0  13.0   9.48524 \n",
       "  1.0  14.0  51.7025  \n",
       "  ⋮                   \n",
       " 25.0  13.0   8.10678 \n",
       " 25.0  14.0  38.4216  \n",
       " 25.0  15.0   2.70941 \n",
       " 25.0  16.0  18.3423  \n",
       " 25.0  17.0  12.7852  \n",
       " 25.0  18.0   9.46774 \n",
       " 25.0  19.0   1.45088 \n",
       " 25.0  20.0   0.992602\n",
       " 25.0  21.0   7.42797 \n",
       " 25.0  22.0  15.6204  \n",
       " 25.0  23.0   7.00715 \n",
       " 25.0  24.0   1.02283 "
      ]
     },
     "execution_count": 367,
     "metadata": {},
     "output_type": "execute_result"
    }
   ],
   "source": [
    "D"
   ]
  },
  {
   "cell_type": "code",
   "execution_count": 368,
   "metadata": {
    "collapsed": false
   },
   "outputs": [
    {
     "data": {
      "text/plain": [
       "25×2 Array{Float64,2}:\n",
       " 1.0  1.0\n",
       " 1.0  2.0\n",
       " 1.0  3.0\n",
       " 1.0  4.0\n",
       " 1.0  5.0\n",
       " 2.0  1.0\n",
       " 2.0  2.0\n",
       " 2.0  3.0\n",
       " 2.0  4.0\n",
       " 2.0  5.0\n",
       " 3.0  1.0\n",
       " 3.0  2.0\n",
       " 3.0  3.0\n",
       " 3.0  4.0\n",
       " 3.0  5.0\n",
       " 4.0  1.0\n",
       " 4.0  2.0\n",
       " 4.0  3.0\n",
       " 4.0  4.0\n",
       " 4.0  5.0\n",
       " 5.0  1.0\n",
       " 5.0  2.0\n",
       " 5.0  3.0\n",
       " 5.0  4.0\n",
       " 5.0  5.0"
      ]
     },
     "execution_count": 368,
     "metadata": {},
     "output_type": "execute_result"
    }
   ],
   "source": [
    "X # this are the true underlying positions. "
   ]
  },
  {
   "cell_type": "code",
   "execution_count": 522,
   "metadata": {
    "collapsed": false
   },
   "outputs": [
    {
     "data": {
      "text/plain": [
       "25×8 Array{Float64,2}:\n",
       "  0.0       1.0        2.0  4.46741   0.901875  5.9634   5.56694  3.12323\n",
       " -1.0       0.5        3.0  0.167393  4.01161   8.8546   6.87567  4.40511\n",
       " -2.0       0.333333   4.0  2.25861   2.35848   1.47544  8.36969  6.38953\n",
       " -3.0       0.25       5.0  4.15064   0.720077  8.76637  8.52185  1.20195\n",
       " -4.0       0.2        6.0  7.45312   7.99674   1.61144  9.3567   6.25432\n",
       " -0.75      2.0        3.0  6.07041   2.65915   2.62937  2.91309  6.92741\n",
       " -1.75      1.0        4.0  7.79581   0.922574  9.42458  6.67458  8.76867\n",
       " -2.75      0.666667   5.0  1.17306   1.14706   9.26857  9.72966  1.23717\n",
       " -3.75      0.5        6.0  9.52308   7.66061   6.44527  4.89394  4.01736\n",
       " -4.75      0.4        7.0  9.30186   7.45676   3.95285  1.05433  1.81068\n",
       " -0.888889  3.0        4.0  2.76652   5.85083   4.95558  9.61397  9.57735\n",
       " -1.88889   1.5        5.0  9.31351   4.14854   4.03313  3.49087  4.65604\n",
       " -2.88889   1.0        6.0  2.15503   4.51389   9.97019  1.48241  8.13792\n",
       " -3.88889   0.75       7.0  0.40594   6.28757   2.4556   1.70873  9.21579\n",
       " -4.88889   0.6        8.0  2.25772   2.18508   4.26438  3.0807   5.991  \n",
       " -0.9375    4.0        5.0  4.90997   3.7909    1.79908  5.20891  2.99761\n",
       " -1.9375    2.0        6.0  4.33029   3.33957   8.99121  7.02288  3.6941 \n",
       " -2.9375    1.33333    7.0  7.18849   4.14729   2.46216  8.2818   6.49745\n",
       " -3.9375    1.0        8.0  1.91454   5.45062   3.37074  7.98456  2.47429\n",
       " -4.9375    0.8        9.0  1.17064   2.75383   1.84709  7.8771   7.91442\n",
       " -0.96      5.0        6.0  5.38539   0.425996  2.68682  6.47638  8.74324\n",
       " -1.96      2.5        7.0  7.08815   4.2695    2.47822  2.61522  3.52864\n",
       " -2.96      1.66667    8.0  3.15333   4.68115   8.81067  8.75326  2.31189\n",
       " -3.96      1.25       9.0  8.72149   2.88542   8.89956  4.30186  8.56535\n",
       " -4.96      1.0       10.0  0.957985  2.72621   5.7256   5.42817  9.27402"
      ]
     },
     "execution_count": 522,
     "metadata": {},
     "output_type": "execute_result"
    }
   ],
   "source": [
    "Xtest = [1.0./X[:,1].^2-X[:,2] X[:,1]./X[:,2] X[:,1]+X[:,2]]\n",
    "Nirr = 5\n",
    "Xtest = hcat(Xtest, 10*rand(size(X,1), Nirr))"
   ]
  },
  {
   "cell_type": "code",
   "execution_count": 529,
   "metadata": {
    "collapsed": false
   },
   "outputs": [
    {
     "name": "stdout",
     "output_type": "stream",
     "text": [
      "Num Inducing inputs: 25\n"
     ]
    }
   ],
   "source": [
    "# side information\n",
    "# nonlinear transformation of the input coordinates\n",
    "#Xtest = [2*X[:,1].^2-X[:,2] X[:,1].*X[:,2] X[:,1]+X[:,2]]\n",
    "\n",
    "for i=1:size(Xtest,2)\n",
    "    Xtest[:,i] = (Xtest[:,i] - mean(Xtest[:,i]))./(1.0+maximum(Xtest[:,i]))\n",
    "end\n",
    "Xfeat = Xtest\n",
    "\n",
    "# We set the inducing input locations with some noise\n",
    "Xu = Xtest # inducing input locations\n",
    "Xu = Xu + 0.05*rand(size(Xu))\n",
    "println(\"Num Inducing inputs: \",size(Xu,1))"
   ]
  },
  {
   "cell_type": "code",
   "execution_count": 530,
   "metadata": {
    "collapsed": false
   },
   "outputs": [
    {
     "data": {
      "text/plain": [
       "25×8 Array{Float64,2}:\n",
       "  2.70728    -0.023125    -0.129032   …   0.0232193   -0.0107454  -0.0802282\n",
       "  1.70728    -0.054375    -0.0967742      0.116754     0.0326061  -0.0371139\n",
       "  0.707278   -0.0647917   -0.0645161     -0.121972     0.0820948   0.0296296\n",
       " -0.292722   -0.07        -0.0322581      0.113899     0.087135   -0.144848 \n",
       " -1.29272    -0.073125     0.0           -0.117573     0.114789    0.0250819\n",
       "  1.95728     0.039375    -0.0967742  …  -0.0846411   -0.0986531   0.0477205\n",
       "  0.957278   -0.023125    -0.0645161      0.135193     0.0259448   0.109649 \n",
       " -0.0427222  -0.0439583   -0.0322581      0.130146     0.127143   -0.143663 \n",
       " -1.04272    -0.054375     0.0            0.0388085   -0.0330383  -0.0501554\n",
       " -2.04272    -0.060625     0.0322581     -0.0418249   -0.160224   -0.124374 \n",
       "  1.81839     0.101875    -0.0645161  …  -0.00938506   0.123311    0.136848 \n",
       "  0.818389    0.008125    -0.0322581     -0.0392276   -0.0795144  -0.0286743\n",
       " -0.181611   -0.023125     0.0            0.152845    -0.146044    0.0884345\n",
       " -1.18161    -0.03875      0.0322581     -0.090263    -0.138547    0.124687 \n",
       " -2.18161    -0.048125     0.0645161     -0.0317462   -0.0931014   0.0162256\n",
       "  1.76978     0.164375    -0.0322581  …  -0.111502    -0.0226049  -0.0844533\n",
       "  0.769778    0.039375     0.0            0.121173     0.0374823  -0.0610279\n",
       " -0.230222   -0.00229167   0.0322581     -0.0900506    0.0791834   0.0332594\n",
       " -1.23022    -0.023125     0.0645161     -0.0606569    0.0693374  -0.102055 \n",
       " -2.23022    -0.035625     0.0967742     -0.109949     0.0657781   0.0809173\n",
       "  1.74728     0.226875     0.0        …  -0.0827825    0.0193794   0.108794 \n",
       "  0.747278    0.070625     0.0322581     -0.0895312   -0.10852    -0.0665927\n",
       " -0.252722    0.0185417    0.0645161      0.115333     0.0948004  -0.107517 \n",
       " -1.25272    -0.0075       0.0967742      0.118208    -0.0526506   0.102811 \n",
       " -2.25272    -0.023125     0.129032       0.0155263   -0.015342    0.126646 "
      ]
     },
     "execution_count": 530,
     "metadata": {},
     "output_type": "execute_result"
    }
   ],
   "source": [
    "Xfeat"
   ]
  },
  {
   "cell_type": "code",
   "execution_count": 531,
   "metadata": {
    "collapsed": false
   },
   "outputs": [
    {
     "name": "stderr",
     "output_type": "stream",
     "text": [
      "WARNING: replacing module vbmds\n"
     ]
    },
    {
     "data": {
      "text/plain": [
       "vbmds"
      ]
     },
     "execution_count": 531,
     "metadata": {},
     "output_type": "execute_result"
    }
   ],
   "source": [
    "include(\"vbmds.jl\") # load in the VBMDS code"
   ]
  },
  {
   "cell_type": "code",
   "execution_count": 532,
   "metadata": {
    "collapsed": false
   },
   "outputs": [
    {
     "name": "stdout",
     "output_type": "stream",
     "text": [
      "Parameters Set up!\n"
     ]
    }
   ],
   "source": [
    "# set up parameters\n",
    "srand(0)\n",
    "\n",
    "nZ = nX # number of latent points\n",
    "num_lower_dim = 2 # number of latent dimensions\n",
    "#kfunc = vbmds.seARDkernel # kernel function\n",
    "\n",
    "lbfunc = vbmds.lognormalEucMixLB #likelihood lower bound\n",
    "#lbfunc = vbmds.normalSqEucLB\n",
    "\n",
    "kfunc = vbmds.seNNkernel\n",
    "hyp = 0.01*randn(size(Xfeat,2).^2)\n",
    "hyp = vcat(hyp, [0.02])\n",
    "\n",
    "#hyp = sqrt(0.02*ones(size(Xfeat,2)))# hyperparameters\n",
    "\n",
    "#vcat(hyp, [0.02])\n",
    "#kfunc = vbmds.sekernel\n",
    "#hyp=[0.02]\n",
    "m = [] # mean of inducing variables (set to [] if you want auto init)\n",
    "v = [] # diagonal of inducing variables (set to [] if you want auto init)\n",
    "mu = []\n",
    "s2 = 10.0*ones(nZ, num_lower_dim)\n",
    "vn = 0.1 #noise variance\n",
    "m0 = [] # initial prior for m (Set to [] if you want auto)\n",
    "v0 = [] # intiial prior for v (Set to [] if you want auto)\n",
    "mu0 = []\n",
    "s20 = .1*ones(nZ, num_lower_dim)\n",
    "init_method = \"random\"# \"random\" for random initialization, \"mds\" for MDS initialization\n",
    "mds_vn = 0.01\n",
    "\n",
    "params = vbmds.VBMDSMixParams(Xu, num_lower_dim, \n",
    "lbfunc, kfunc, \n",
    "hyp, \n",
    "m, v, \n",
    "mu, s2,\n",
    "vn, \n",
    "m0, v0,\n",
    "mu0, s20,\n",
    "init_method, mds_vn)\n",
    "println(\"Parameters Set up!\")"
   ]
  },
  {
   "cell_type": "code",
   "execution_count": 533,
   "metadata": {
    "collapsed": false
   },
   "outputs": [
    {
     "data": {
      "text/plain": [
       "100"
      ]
     },
     "execution_count": 533,
     "metadata": {},
     "output_type": "execute_result"
    }
   ],
   "source": [
    "nnhyplb = -100*ones(length(params.hyp))#sqrt(0.01),\n",
    "nnhypub = 10000*ones(length(params.hyp))#sqrt(100.0)\n",
    "nnhyplb[end] = 0.0001\n",
    "nnhypub[end] = 100"
   ]
  },
  {
   "cell_type": "code",
   "execution_count": 534,
   "metadata": {
    "collapsed": false,
    "scrolled": true
   },
   "outputs": [
    {
     "name": "stdout",
     "output_type": "stream",
     "text": [
      "Creating Parameters\n",
      "Setting up Fixed Variables\n",
      "Outer Iteration: 1\n",
      "Local Sample Iteration: 1\n",
      "Number Function Calls: 360\n",
      "Number Gradient Calls: 360\n",
      "2: 17037.354097405485\n",
      "Outer Iteration: 2\n",
      "Local Sample Iteration: 1\n",
      "Number Function Calls: 373\n",
      "Number Gradient Calls: 373\n",
      "3: 16994.964183653683\n",
      "Outer Iteration: 3\n",
      "Local Sample Iteration: 1\n",
      "Number Function Calls: 349\n",
      "Number Gradient Calls: 349\n",
      "4: 16990.334194756855\n",
      "Outer Iteration: 4\n",
      "Local Sample Iteration: 1\n",
      "Number Function Calls: 27\n",
      "Number Gradient Calls: 27\n",
      "5: 16990.2126720559\n",
      "Outer Iteration: 5\n",
      "Local Sample Iteration: 1\n",
      "Number Function Calls: 4\n",
      "Number Gradient Calls: 4\n",
      "6: 16990.198680395406\n",
      "Outer Iteration: 6\n",
      "Local Sample Iteration: 1\n",
      "Number Function Calls: 49\n",
      "Number Gradient Calls: 49\n",
      "7: 16989.363141786795\n",
      "Outer Iteration: 7\n",
      "Local Sample Iteration: 1\n",
      "Number Function Calls: 4\n",
      "Number Gradient Calls: 4\n",
      "8: 16989.35225730854\n",
      "Outer Iteration: 8\n",
      "Local Sample Iteration: 1\n",
      "Number Function Calls: 5\n",
      "Number Gradient Calls: 5\n",
      "9: 16989.344784497152\n",
      "Outer Iteration: 9\n",
      "Local Sample Iteration: 1\n",
      "Number Function Calls: 4\n",
      "Number Gradient Calls: 4\n",
      "10: 16989.336577817405\n",
      "Outer Iteration: 10\n",
      "Local Sample Iteration: 1\n",
      "Number Function Calls: 73\n",
      "Number Gradient Calls: 73\n",
      "11: 16988.79775052672\n",
      "Outer Iteration: 11\n",
      "Local Sample Iteration: 1\n",
      "Number Function Calls: 4\n",
      "Number Gradient Calls: 4\n",
      "12: 16988.791294192317\n",
      "Outer Iteration: 12\n",
      "Local Sample Iteration: 1\n",
      "Number Function Calls: 4\n",
      "Number Gradient Calls: 4\n",
      "13: 16988.776314624614\n",
      "Outer Iteration: 13\n",
      "Local Sample Iteration: 1\n",
      "Number Function Calls: 4\n",
      "Number Gradient Calls: 4\n",
      "14: 16988.76765135235\n",
      "Outer Iteration: 14\n",
      "Local Sample Iteration: 1\n",
      "Number Function Calls: 5\n",
      "Number Gradient Calls: 5\n",
      "15: 16988.76329674954\n",
      "Outer Iteration: 15\n",
      "Local Sample Iteration: 1\n",
      "Number Function Calls: 4\n",
      "Number Gradient Calls: 4\n",
      "16: 16988.756378351696\n",
      "Outer Iteration: 16\n",
      "Local Sample Iteration: 1\n",
      "Number Function Calls: 81\n",
      "Number Gradient Calls: 81\n",
      "17: 16988.29959067201\n",
      "Outer Iteration: 17\n",
      "Local Sample Iteration: 1\n",
      "Number Function Calls: 5\n",
      "Number Gradient Calls: 5\n",
      "18: 16988.290829019505\n",
      "Outer Iteration: 18\n",
      "Local Sample Iteration: 1\n",
      "Number Function Calls: 4\n",
      "Number Gradient Calls: 4\n",
      "19: 16988.28441134038\n",
      "Outer Iteration: 19\n",
      "Local Sample Iteration: 1\n",
      "Number Function Calls: 5\n",
      "Number Gradient Calls: 5\n",
      "20: 16988.271432520858\n",
      "Outer Iteration: 20\n",
      "Local Sample Iteration: 1\n",
      "Number Function Calls: 4\n",
      "Number Gradient Calls: 4\n",
      "21: 16988.259159361944\n",
      "Outer Iteration: 21\n",
      "Local Sample Iteration: 1\n",
      "Number Function Calls: 26\n",
      "Number Gradient Calls: 26\n",
      "22: 16988.154995848316\n",
      "Outer Iteration: 22\n",
      "Local Sample Iteration: 1\n",
      "Number Function Calls: 5\n",
      "Number Gradient Calls: 5\n",
      "23: 16988.13889540331\n",
      "Outer Iteration: 23\n",
      "Local Sample Iteration: 1\n",
      "Number Function Calls: 4\n",
      "Number Gradient Calls: 4\n",
      "24: 16988.12651871024\n",
      "Outer Iteration: 24\n",
      "Local Sample Iteration: 1\n",
      "Number Function Calls: 5\n",
      "Number Gradient Calls: 5\n",
      "25: 16988.110172110257\n",
      "Outer Iteration: 25\n",
      "Local Sample Iteration: 1\n",
      "Number Function Calls: 4\n",
      "Number Gradient Calls: 4\n",
      "26: 16988.098480453184\n",
      "Outer Iteration: 26\n",
      "Local Sample Iteration: 1\n",
      "Number Function Calls: 5\n",
      "Number Gradient Calls: 5\n",
      "27: 16988.09577464265\n",
      "Outer Iteration: 27\n",
      "Local Sample Iteration: 1\n",
      "Number Function Calls: 4\n",
      "Number Gradient Calls: 4\n",
      "28: 16988.0913732344\n",
      "Outer Iteration: 28\n",
      "Local Sample Iteration: 1\n",
      "Number Function Calls: 4\n",
      "Number Gradient Calls: 4\n",
      "29: 16988.07844014356\n",
      "Outer Iteration: 29\n",
      "Local Sample Iteration: 1\n",
      "Number Function Calls: 4\n",
      "Number Gradient Calls: 4\n",
      "30: 16988.071685121144\n",
      "Outer Iteration: 30\n",
      "Local Sample Iteration: 1\n",
      "Number Function Calls: 4\n",
      "Number Gradient Calls: 4\n",
      "31: 16988.068799471388\n",
      "Outer Iteration: 31\n",
      "Local Sample Iteration: 1\n",
      "Number Function Calls: 5\n",
      "Number Gradient Calls: 5\n",
      "32: 16988.056683535622\n",
      "Outer Iteration: 32\n",
      "Local Sample Iteration: 1\n",
      "Number Function Calls: 4\n",
      "Number Gradient Calls: 4\n",
      "33: 16988.044940401385\n",
      "Outer Iteration: 33\n",
      "Local Sample Iteration: 1\n",
      "Number Function Calls: 5\n",
      "Number Gradient Calls: 5\n",
      "34: 16988.02855010779\n",
      "Outer Iteration: 34\n",
      "Local Sample Iteration: 1\n",
      "Number Function Calls: 4\n",
      "Number Gradient Calls: 4\n",
      "35: 16988.012194167197\n",
      "Outer Iteration: 35\n",
      "Local Sample Iteration: 1\n",
      "Number Function Calls: 50\n",
      "Number Gradient Calls: 50\n",
      "36: 16987.651988284502\n",
      "Outer Iteration: 36\n",
      "Local Sample Iteration: 1\n",
      "Number Function Calls: 4\n",
      "Number Gradient Calls: 4\n",
      "37: 16987.64630370474\n",
      "Outer Iteration: 37\n",
      "Local Sample Iteration: 1\n",
      "Number Function Calls: 4\n",
      "Number Gradient Calls: 4\n",
      "38: 16987.643441788136\n",
      "Outer Iteration: 38\n",
      "Local Sample Iteration: 1\n",
      "Number Function Calls: 5\n",
      "Number Gradient Calls: 5\n",
      "39: 16987.63416625924\n",
      "Outer Iteration: 39\n",
      "Local Sample Iteration: 1\n",
      "Number Function Calls: 4\n",
      "Number Gradient Calls: 4\n",
      "40: 16987.625127840325\n",
      "Outer Iteration: 40\n",
      "Local Sample Iteration: 1\n",
      "Number Function Calls: 5\n",
      "Number Gradient Calls: 5\n",
      "41: 16987.613210300748\n",
      "Outer Iteration: 41\n",
      "Local Sample Iteration: 1\n",
      "Number Function Calls: 4\n",
      "Number Gradient Calls: 4\n",
      "42: 16987.601353760034\n",
      "Outer Iteration: 42\n",
      "Local Sample Iteration: 1\n",
      "Number Function Calls: 5\n",
      "Number Gradient Calls: 5\n",
      "43: 16987.58682711777\n",
      "Outer Iteration: 43\n",
      "Local Sample Iteration: 1\n",
      "Number Function Calls: 4\n",
      "Number Gradient Calls: 4\n",
      "44: 16987.572238571065\n",
      "Outer Iteration: 44\n",
      "Local Sample Iteration: 1\n",
      "Number Function Calls: 26\n",
      "Number Gradient Calls: 26\n",
      "45: 16987.470407496367\n",
      "Outer Iteration: 45\n",
      "Local Sample Iteration: 1\n",
      "Number Function Calls: 5\n",
      "Number Gradient Calls: 5\n",
      "46: 16987.456815696165\n",
      "Outer Iteration: 46\n",
      "Local Sample Iteration: 1\n",
      "Number Function Calls: 4\n",
      "Number Gradient Calls: 4\n",
      "47: 16987.450098539328\n",
      "Outer Iteration: 47\n",
      "Local Sample Iteration: 1\n",
      "Number Function Calls: 5\n",
      "Number Gradient Calls: 5\n",
      "48: 16987.44169095046\n",
      "Outer Iteration: 48\n",
      "Local Sample Iteration: 1\n",
      "Number Function Calls: 4\n",
      "Number Gradient Calls: 4\n",
      "49: 16987.43540773775\n",
      "Outer Iteration: 49\n",
      "Local Sample Iteration: 1\n",
      "Number Function Calls: 4\n",
      "Number Gradient Calls: 4\n",
      "50: 16987.429895828653\n",
      "Outer Iteration: 50\n",
      "Local Sample Iteration: 1\n",
      "Number Function Calls: 5\n",
      "Number Gradient Calls: 5\n",
      "51: 16987.426606195444\n",
      "Outer Iteration: 51\n",
      "Local Sample Iteration: 1\n",
      "Number Function Calls: 4\n",
      "Number Gradient Calls: 4\n",
      "52: 16987.42376746785\n",
      "Outer Iteration: 52\n",
      "Local Sample Iteration: 1\n",
      "Number Function Calls: 4\n",
      "Number Gradient Calls: 4\n",
      "53: 16987.41873961344\n",
      "Outer Iteration: 53\n",
      "Local Sample Iteration: 1\n",
      "Number Function Calls: 5\n",
      "Number Gradient Calls: 5\n",
      "54: 16987.415371743613\n",
      "Outer Iteration: 54\n",
      "Local Sample Iteration: 1\n",
      "Number Function Calls: 4\n",
      "Number Gradient Calls: 4\n",
      "55: 16987.412708464835\n",
      "Outer Iteration: 55\n",
      "Local Sample Iteration: 1\n",
      "Number Function Calls: 4\n",
      "Number Gradient Calls: 4\n",
      "56: 16987.408244151506\n",
      "Outer Iteration: 56\n",
      "Local Sample Iteration: 1\n",
      "Number Function Calls: 5\n",
      "Number Gradient Calls: 5\n",
      "57: 16987.40430945096\n",
      "Outer Iteration: 57\n",
      "Local Sample Iteration: 1\n",
      "Number Function Calls: 4\n",
      "Number Gradient Calls: 4\n",
      "58: 16987.401881958485\n",
      "Outer Iteration: 58\n",
      "Local Sample Iteration: 1\n",
      "Number Function Calls: 4\n",
      "Number Gradient Calls: 4\n",
      "59: 16987.398766913768\n",
      "Outer Iteration: 59\n",
      "Local Sample Iteration: 1\n",
      "Number Function Calls: 4\n",
      "Number Gradient Calls: 4\n",
      "60: 16987.394291191937\n",
      "Outer Iteration: 60\n",
      "Local Sample Iteration: 1\n",
      "Number Function Calls: 5\n",
      "Number Gradient Calls: 5\n",
      "61: 16987.38424813741\n",
      "Outer Iteration: 61\n",
      "Local Sample Iteration: 1\n",
      "Number Function Calls: 4\n",
      "Number Gradient Calls: 4\n",
      "62: 16987.374269276956\n",
      "Outer Iteration: 62\n",
      "Local Sample Iteration: 1\n",
      "Number Function Calls: 5\n",
      "Number Gradient Calls: 5\n",
      "63: 16987.36203453731\n",
      "Outer Iteration: 63\n",
      "Local Sample Iteration: 1\n",
      "Number Function Calls: 4\n",
      "Number Gradient Calls: 4\n",
      "64: 16987.349737745622\n",
      "Outer Iteration: 64\n",
      "Local Sample Iteration: 1\n",
      "Number Function Calls: 5\n",
      "Number Gradient Calls: 5\n",
      "65: 16987.335352759437\n",
      "Outer Iteration: 65\n",
      "Local Sample Iteration: 1\n",
      "Number Function Calls: 4\n",
      "Number Gradient Calls: 4\n",
      "66: 16987.320778591667\n",
      "Outer Iteration: 66\n",
      "Local Sample Iteration: 1\n",
      "Number Function Calls: 5\n",
      "Number Gradient Calls: 5\n",
      "67: 16987.304315213176\n",
      "Outer Iteration: 67\n",
      "Local Sample Iteration: 1\n",
      "Number Function Calls: 4\n",
      "Number Gradient Calls: 4\n",
      "68: 16987.287525961405\n",
      "Outer Iteration: 68\n",
      "Local Sample Iteration: 1\n",
      "Number Function Calls: 26\n",
      "Number Gradient Calls: 26\n",
      "69: 16987.177531418707\n",
      "Outer Iteration: 69\n",
      "Local Sample Iteration: 1\n",
      "Number Function Calls: 6\n",
      "Number Gradient Calls: 6\n",
      "70: 16987.165649378796\n",
      "Outer Iteration: 70\n",
      "Local Sample Iteration: 1\n",
      "Number Function Calls: 4\n",
      "Number Gradient Calls: 4\n",
      "71: 16987.161180380564\n",
      "Outer Iteration: 71\n",
      "Local Sample Iteration: 1\n",
      "Number Function Calls: 4\n",
      "Number Gradient Calls: 4\n",
      "72: 16987.155652913763\n",
      "Outer Iteration: 72\n",
      "Local Sample Iteration: 1\n",
      "Number Function Calls: 4\n",
      "Number Gradient Calls: 4\n",
      "73: 16987.15302661919\n",
      "Outer Iteration: 73\n",
      "Local Sample Iteration: 1\n",
      "Number Function Calls: 4\n",
      "Number Gradient Calls: 4\n",
      "74: 16987.147390633218\n",
      "Outer Iteration: 74\n",
      "Local Sample Iteration: 1\n",
      "Number Function Calls: 4\n",
      "Number Gradient Calls: 4\n",
      "75: 16987.144980830715\n",
      "Outer Iteration: 75\n",
      "Local Sample Iteration: 1\n",
      "Number Function Calls: 4\n",
      "Number Gradient Calls: 4\n",
      "76: 16987.13951938786\n",
      "Outer Iteration: 76\n",
      "Local Sample Iteration: 1\n",
      "Number Function Calls: 4\n",
      "Number Gradient Calls: 4\n",
      "77: 16987.137398229264\n",
      "Outer Iteration: 77\n",
      "Local Sample Iteration: 1\n",
      "Number Function Calls: 4\n",
      "Number Gradient Calls: 4\n",
      "78: 16987.133216670773\n",
      "Outer Iteration: 78\n",
      "Local Sample Iteration: 1\n",
      "Number Function Calls: 5\n",
      "Number Gradient Calls: 5\n",
      "79: 16987.129731095945\n",
      "Outer Iteration: 79\n",
      "Local Sample Iteration: 1\n",
      "Number Function Calls: 4\n",
      "Number Gradient Calls: 4\n",
      "80: 16987.127461315285\n",
      "Outer Iteration: 80\n",
      "Local Sample Iteration: 1\n",
      "Number Function Calls: 4\n",
      "Number Gradient Calls: 4\n",
      "81: 16987.122288130355\n",
      "Outer Iteration: 81\n",
      "Local Sample Iteration: 1\n",
      "Number Function Calls: 5\n",
      "Number Gradient Calls: 5\n",
      "82: 16987.119193293172\n",
      "Outer Iteration: 82\n",
      "Local Sample Iteration: 1\n",
      "Number Function Calls: 4\n",
      "Number Gradient Calls: 4\n",
      "83: 16987.11620354691\n",
      "Outer Iteration: 83\n",
      "Local Sample Iteration: 1\n",
      "Number Function Calls: 4\n",
      "Number Gradient Calls: 4\n",
      "84: 16987.11079985368\n",
      "Outer Iteration: 84\n",
      "Local Sample Iteration: 1\n",
      "Number Function Calls: 4\n",
      "Number Gradient Calls: 4\n",
      "85: 16987.108129204054\n",
      "Outer Iteration: 85\n",
      "Local Sample Iteration: 1\n",
      "Number Function Calls: 4\n",
      "Number Gradient Calls: 4\n",
      "86: 16987.102631362028\n",
      "Outer Iteration: 86\n",
      "Local Sample Iteration: 1\n",
      "Number Function Calls: 4\n",
      "Number Gradient Calls: 4\n",
      "87: 16987.10012803987\n",
      "Outer Iteration: 87\n",
      "Local Sample Iteration: 1\n",
      "Number Function Calls: 4\n",
      "Number Gradient Calls: 4\n",
      "88: 16987.094619520445\n",
      "Outer Iteration: 88\n",
      "Local Sample Iteration: 1\n",
      "Number Function Calls: 4\n",
      "Number Gradient Calls: 4\n",
      "89: 16987.092284579852\n",
      "Outer Iteration: 89\n",
      "Local Sample Iteration: 1\n",
      "Number Function Calls: 4\n",
      "Number Gradient Calls: 4\n",
      "90: 16987.08687084588\n",
      "Outer Iteration: 90\n",
      "Local Sample Iteration: 1\n",
      "Number Function Calls: 4\n",
      "Number Gradient Calls: 4\n",
      "91: 16987.084777446416\n",
      "Outer Iteration: 91\n",
      "Local Sample Iteration: 1\n",
      "Number Function Calls: 4\n",
      "Number Gradient Calls: 4\n",
      "92: 16987.08001664235\n",
      "Outer Iteration: 92\n",
      "Local Sample Iteration: 1\n",
      "Number Function Calls: 5\n",
      "Number Gradient Calls: 5\n",
      "93: 16987.077086912628\n",
      "Outer Iteration: 93\n",
      "Local Sample Iteration: 1\n",
      "Number Function Calls: 4\n",
      "Number Gradient Calls: 4\n",
      "94: 16987.074620611398\n",
      "Outer Iteration: 94\n",
      "Local Sample Iteration: 1\n",
      "Number Function Calls: 4\n",
      "Number Gradient Calls: 4\n",
      "95: 16987.069152636104\n",
      "Outer Iteration: 95\n",
      "Local Sample Iteration: 1\n",
      "Number Function Calls: 4\n",
      "Number Gradient Calls: 4\n",
      "96: 16987.066819714364\n",
      "Outer Iteration: 96\n",
      "Local Sample Iteration: 1\n",
      "Number Function Calls: 4\n",
      "Number Gradient Calls: 4\n",
      "97: 16987.06139627027\n",
      "Outer Iteration: 97\n",
      "Local Sample Iteration: 1\n",
      "Number Function Calls: 4\n",
      "Number Gradient Calls: 4\n",
      "98: 16987.0592384939\n",
      "Outer Iteration: 98\n",
      "Local Sample Iteration: 1\n",
      "Number Function Calls: 4\n",
      "Number Gradient Calls: 4\n",
      "99: 16987.054078636196\n",
      "Outer Iteration: 99\n",
      "Local Sample Iteration: 1\n",
      "Number Function Calls: 5\n",
      "Number Gradient Calls: 5\n",
      "100: 16987.05106845221\n",
      "Outer Iteration: 100\n",
      "Local Sample Iteration: 1\n",
      "Number Function Calls: 4\n",
      "Number Gradient Calls: 4\n",
      "101: 16987.048057350345\n",
      "Done, returning optimized parameters\n",
      "Done Optimizing.\n"
     ]
    }
   ],
   "source": [
    "nZ = nX\n",
    "Xfeat_local = []\n",
    "params = vbmds.VBMDSMix(D, Xfeat_local, nZ, params; \n",
    "opt_method=GradientDescent(),\n",
    "sample_size = 0, #run on all \n",
    "num_iterations= 100, \n",
    "opt_iterations = 100,\n",
    "opt_hyp_iterations = 100,\n",
    "opt_vn_iterations = 100,\n",
    "local_iterations= 1, \n",
    "report_interval=100, \n",
    "fixed_noise = true,\n",
    "fixed_hyp = false,\n",
    "show_trace = false,\n",
    "vlb = 1.0e-2,\n",
    "vub = 1.0,\n",
    "s2lb = 1.0e-4,\n",
    "s2ub = 100.0,\n",
    "vnlb = 1.0e-5,\n",
    "vnub = 2*vn_true,\n",
    "hyplb = nnhyplb,#sqrt(0.01),\n",
    "hypub = nnhypub#sqrt(100.0)\n",
    ")\n",
    "\n",
    "println(\"Done Optimizing.\")\n",
    "#run(`say -v Allison \\\"Done Optimizing Lattice \\\"`)\n"
   ]
  },
  {
   "cell_type": "code",
   "execution_count": 536,
   "metadata": {
    "collapsed": false
   },
   "outputs": [
    {
     "data": {
      "image/png": "[encoded data removed]",
      "text/plain": [
       "Winston.FramedPlot(...)"
      ]
     },
     "execution_count": 536,
     "metadata": {},
     "output_type": "execute_result"
    }
   ],
   "source": [
    "# Prediction\n",
    "p = 0\n",
    "\n",
    "#plotting via Winston\n",
    "hold(false)\n",
    "if Xfeat_local != []\n",
    "    (mZ_pred, vZ_pred) = vbmds.VBMDSMix(0, Xfeat, nZ, params)\n",
    "    println(\"Using GP\")\n",
    "    errbarsx = SymmetricErrorBarsX(mZ_pred[:,1], mZ_pred[:,2], 2*sqrt(vZ_pred[:,1]))\n",
    "    errbarsy = SymmetricErrorBarsY(mZ_pred[:,1], mZ_pred[:,2], 2*sqrt(vZ_pred[:,2]))\n",
    "\n",
    "    p = scatter(mZ_pred[:,1], mZ_pred[:,2])\n",
    "    hold(true)\n",
    "    add(p, errbarsx)\n",
    "    add(p, errbarsy)\n",
    "end\n",
    "\n",
    "p = scatter(params.mu[:,1], params.mu[:,2])\n",
    "\n",
    "hold(true)\n",
    "errbarsx_z = SymmetricErrorBarsX(params.mu[:,1], params.mu[:,2], sqrt(params.s2[:,1]))\n",
    "errbarsy_z = SymmetricErrorBarsY(params.mu[:,1], params.mu[:,2], sqrt(params.s2[:,2]))\n",
    "add(p, errbarsx_z)\n",
    "add(p, errbarsy_z)\n",
    "p"
   ]
  },
  {
   "cell_type": "code",
   "execution_count": 257,
   "metadata": {
    "collapsed": false
   },
   "outputs": [
    {
     "data": {
      "text/plain": [
       "4"
      ]
     },
     "execution_count": 257,
     "metadata": {},
     "output_type": "execute_result"
    }
   ],
   "source": [
    "a = [1,2,3,4]\n",
    "length(a)"
   ]
  },
  {
   "cell_type": "code",
   "execution_count": 173,
   "metadata": {
    "collapsed": false
   },
   "outputs": [
    {
     "data": {
      "text/plain": [
       "2×2 Array{Int64,2}:\n",
       " 1  3\n",
       " 2  4"
      ]
     },
     "execution_count": 173,
     "metadata": {},
     "output_type": "execute_result"
    }
   ],
   "source": [
    "\n",
    "a = [1,2,3,4]\n",
    "a = reshape(a, length())"
   ]
  },
  {
   "cell_type": "code",
   "execution_count": 172,
   "metadata": {
    "collapsed": false
   },
   "outputs": [
    {
     "data": {
      "text/plain": [
       "3"
      ]
     },
     "execution_count": 172,
     "metadata": {},
     "output_type": "execute_result"
    }
   ],
   "source": [
    "a[end]"
   ]
  },
  {
   "cell_type": "code",
   "execution_count": null,
   "metadata": {
    "collapsed": true
   },
   "outputs": [],
   "source": []
  }
 ],
 "metadata": {
  "anaconda-cloud": {},
  "kernelspec": {
   "display_name": "Julia 0.5.0",
   "language": "julia",
   "name": "julia-0.5"
  },
  "language_info": {
   "file_extension": ".jl",
   "mimetype": "application/julia",
   "name": "julia",
   "version": "0.5.0"
  }
 },
 "nbformat": 4,
 "nbformat_minor": 0
}
