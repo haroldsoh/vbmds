{
 "cells": [
  {
   "cell_type": "markdown",
   "metadata": {},
   "source": [
    "# 2-D Lattice Test #\n",
    "\n",
    "In this example, we run the VBMDS-GP with the 2-D Lattice as a test"
   ]
  },
  {
   "cell_type": "code",
   "execution_count": 1,
   "metadata": {
    "collapsed": false
   },
   "outputs": [],
   "source": [
    "using Winston\n",
    "using Distances\n",
    "using Distributions\n",
    "using Optim"
   ]
  },
  {
   "cell_type": "code",
   "execution_count": 2,
   "metadata": {
    "collapsed": false
   },
   "outputs": [
    {
     "name": "stdout",
     "output_type": "stream",
     "text": [
      "49500\n"
     ]
    }
   ],
   "source": [
    "# create dataset\n",
    "# generate simple grid\n",
    "nX = 10^2\n",
    "X = zeros(nX,2)\n",
    "k = 1\n",
    "for i = 1:sqrt(nX), j = 1:sqrt(nX)\n",
    "    X[k,:] = 1.0*[i, j]\n",
    "    k = k+1\n",
    "end\n",
    "\n",
    "Mdist = pairwise(Euclidean(), X').^2\n",
    "k=1\n",
    "\n",
    "nreps = 5\n",
    "#nD = round(Int,((nX^2) - nX)/2)*nreps\n",
    "nD = (nX^2 - nX)*nreps\n",
    "println(nD)\n",
    "D = zeros(nD, 3)\n",
    "vn_true = 0.1\n",
    "for reps = 1:nreps\n",
    "    for i = 1:nX, j = 1:nX\n",
    "        if i!=j\n",
    "            d = LogNormal(log(Mdist[i,j]), sqrt(vn_true))\n",
    "            D[k,:] = [i, j, rand(d) ]\n",
    "            k = k+1\n",
    "        end\n",
    "    end\n",
    "end\n"
   ]
  },
  {
   "cell_type": "code",
   "execution_count": 3,
   "metadata": {
    "collapsed": false
   },
   "outputs": [
    {
     "data": {
      "text/plain": [
       "49500×3 Array{Float64,2}:\n",
       "   1.0   2.0   1.1757  \n",
       "   1.0   3.0   4.73847 \n",
       "   1.0   4.0  10.2236  \n",
       "   1.0   5.0  18.2488  \n",
       "   1.0   6.0  22.1826  \n",
       "   1.0   7.0  50.316   \n",
       "   1.0   8.0  54.7312  \n",
       "   1.0   9.0  96.6206  \n",
       "   1.0  10.0  68.479   \n",
       "   1.0  11.0   1.03722 \n",
       "   1.0  12.0   2.56025 \n",
       "   1.0  13.0   4.29288 \n",
       "   1.0  14.0   9.50178 \n",
       "   ⋮                   \n",
       " 100.0  88.0   4.00616 \n",
       " 100.0  89.0   3.33853 \n",
       " 100.0  90.0   0.747791\n",
       " 100.0  91.0  58.448   \n",
       " 100.0  92.0  90.9754  \n",
       " 100.0  93.0  36.4421  \n",
       " 100.0  94.0  39.3338  \n",
       " 100.0  95.0  22.2911  \n",
       " 100.0  96.0  13.1919  \n",
       " 100.0  97.0   6.29673 \n",
       " 100.0  98.0   3.59699 \n",
       " 100.0  99.0   0.852446"
      ]
     },
     "execution_count": 3,
     "metadata": {},
     "output_type": "execute_result"
    }
   ],
   "source": [
    "D"
   ]
  },
  {
   "cell_type": "code",
   "execution_count": 4,
   "metadata": {
    "collapsed": false
   },
   "outputs": [
    {
     "data": {
      "text/plain": [
       "100×2 Array{Float64,2}:\n",
       "  1.0   1.0\n",
       "  1.0   2.0\n",
       "  1.0   3.0\n",
       "  1.0   4.0\n",
       "  1.0   5.0\n",
       "  1.0   6.0\n",
       "  1.0   7.0\n",
       "  1.0   8.0\n",
       "  1.0   9.0\n",
       "  1.0  10.0\n",
       "  2.0   1.0\n",
       "  2.0   2.0\n",
       "  2.0   3.0\n",
       "  ⋮        \n",
       "  9.0   9.0\n",
       "  9.0  10.0\n",
       " 10.0   1.0\n",
       " 10.0   2.0\n",
       " 10.0   3.0\n",
       " 10.0   4.0\n",
       " 10.0   5.0\n",
       " 10.0   6.0\n",
       " 10.0   7.0\n",
       " 10.0   8.0\n",
       " 10.0   9.0\n",
       " 10.0  10.0"
      ]
     },
     "execution_count": 4,
     "metadata": {},
     "output_type": "execute_result"
    }
   ],
   "source": [
    "X # this are the true underlying positions. "
   ]
  },
  {
   "cell_type": "code",
   "execution_count": 5,
   "metadata": {
    "collapsed": false
   },
   "outputs": [
    {
     "data": {
      "text/plain": [
       "getFeatures (generic function with 1 method)"
      ]
     },
     "execution_count": 5,
     "metadata": {},
     "output_type": "execute_result"
    }
   ],
   "source": [
    "function getFeatures(X; Nirr=0)\n",
    "    feat = [1.0./X[:,1].^2-X[:,2] X[:,1]./X[:,2] X[:,1]+X[:,2]]\n",
    "    feat = hcat(feat, 10*rand(size(X,1), Nirr))\n",
    "end"
   ]
  },
  {
   "cell_type": "code",
   "execution_count": 6,
   "metadata": {
    "collapsed": false
   },
   "outputs": [
    {
     "data": {
      "text/plain": [
       "100×3 Array{Float64,2}:\n",
       "  0.0       1.0        2.0\n",
       " -1.0       0.5        3.0\n",
       " -2.0       0.333333   4.0\n",
       " -3.0       0.25       5.0\n",
       " -4.0       0.2        6.0\n",
       " -5.0       0.166667   7.0\n",
       " -6.0       0.142857   8.0\n",
       " -7.0       0.125      9.0\n",
       " -8.0       0.111111  10.0\n",
       " -9.0       0.1       11.0\n",
       " -0.75      2.0        3.0\n",
       " -1.75      1.0        4.0\n",
       " -2.75      0.666667   5.0\n",
       "  ⋮                       \n",
       " -8.98765   1.0       18.0\n",
       " -9.98765   0.9       19.0\n",
       " -0.99     10.0       11.0\n",
       " -1.99      5.0       12.0\n",
       " -2.99      3.33333   13.0\n",
       " -3.99      2.5       14.0\n",
       " -4.99      2.0       15.0\n",
       " -5.99      1.66667   16.0\n",
       " -6.99      1.42857   17.0\n",
       " -7.99      1.25      18.0\n",
       " -8.99      1.11111   19.0\n",
       " -9.99      1.0       20.0"
      ]
     },
     "execution_count": 6,
     "metadata": {},
     "output_type": "execute_result"
    }
   ],
   "source": [
    "Nirr = 0\n",
    "Xtest = getFeatures(X, Nirr=Nirr)"
   ]
  },
  {
   "cell_type": "code",
   "execution_count": 7,
   "metadata": {
    "collapsed": false
   },
   "outputs": [
    {
     "name": "stdout",
     "output_type": "stream",
     "text": [
      "Num Inducing inputs: 100\n"
     ]
    }
   ],
   "source": [
    "# side information\n",
    "# nonlinear transformation of the input coordinates\n",
    "#Xtest = [2*X[:,1].^2-X[:,2] X[:,1].*X[:,2] X[:,1]+X[:,2]]\n",
    "\n",
    "#for i=1:size(Xtest,2)\n",
    "#    Xtest[:,i] = (Xtest[:,i] - mean(Xtest[:,i]))./(1.0+maximum(Xtest[:,i]))\n",
    "#end\n",
    "Xfeat = Xtest\n",
    "\n",
    "# We set the inducing input locations with some noise\n",
    "Xu = Xtest # inducing input locations\n",
    "Xu = Xu + 0.05*rand(size(Xu))\n",
    "println(\"Num Inducing inputs: \",size(Xu,1))"
   ]
  },
  {
   "cell_type": "code",
   "execution_count": 8,
   "metadata": {
    "collapsed": false
   },
   "outputs": [
    {
     "data": {
      "text/plain": [
       "100×3 Array{Float64,2}:\n",
       "  0.0       1.0        2.0\n",
       " -1.0       0.5        3.0\n",
       " -2.0       0.333333   4.0\n",
       " -3.0       0.25       5.0\n",
       " -4.0       0.2        6.0\n",
       " -5.0       0.166667   7.0\n",
       " -6.0       0.142857   8.0\n",
       " -7.0       0.125      9.0\n",
       " -8.0       0.111111  10.0\n",
       " -9.0       0.1       11.0\n",
       " -0.75      2.0        3.0\n",
       " -1.75      1.0        4.0\n",
       " -2.75      0.666667   5.0\n",
       "  ⋮                       \n",
       " -8.98765   1.0       18.0\n",
       " -9.98765   0.9       19.0\n",
       " -0.99     10.0       11.0\n",
       " -1.99      5.0       12.0\n",
       " -2.99      3.33333   13.0\n",
       " -3.99      2.5       14.0\n",
       " -4.99      2.0       15.0\n",
       " -5.99      1.66667   16.0\n",
       " -6.99      1.42857   17.0\n",
       " -7.99      1.25      18.0\n",
       " -8.99      1.11111   19.0\n",
       " -9.99      1.0       20.0"
      ]
     },
     "execution_count": 8,
     "metadata": {},
     "output_type": "execute_result"
    }
   ],
   "source": [
    "Xfeat"
   ]
  },
  {
   "cell_type": "code",
   "execution_count": 9,
   "metadata": {
    "collapsed": false
   },
   "outputs": [
    {
     "data": {
      "text/plain": [
       "vbmds"
      ]
     },
     "execution_count": 9,
     "metadata": {},
     "output_type": "execute_result"
    }
   ],
   "source": [
    "include(\"vbmds.jl\") # load in the VBMDS code\n"
   ]
  },
  {
   "cell_type": "code",
   "execution_count": 10,
   "metadata": {
    "collapsed": false
   },
   "outputs": [
    {
     "name": "stdout",
     "output_type": "stream",
     "text": [
      "Parameters Set up!\n"
     ]
    }
   ],
   "source": [
    "# set up parameters\n",
    "srand(0)\n",
    "\n",
    "nZ = nX # number of latent points\n",
    "num_lower_dim = 32 # number of latent dimensions\n",
    "\n",
    "lbfunc = vbmds.lognormalEucMixLB #likelihood lower bound\n",
    "#lbfunc = vbmds.normalSqEucLB\n",
    "\n",
    "kfunc = vbmds.seNNkernel\n",
    "slb = 1.0\n",
    "hyp = rand(size(Xfeat,2).^2)\n",
    "hyp = vcat(hyp, [slb])\n",
    "\n",
    "#kfunc = vbmds.seARDkernel # kernel function\n",
    "#hyp = rand(size(Xfeat,2))# hyperparameters\n",
    "\n",
    "#kfunc = vbmds.sekernel # kernel function\n",
    "#hyp = [2.0]# hyperparameters\n",
    "\n",
    "#vcat(hyp, [0.02])\n",
    "#kfunc = vbmds.sekernel\n",
    "#hyp=[0.02]\n",
    "m = [] # mean of inducing variables (set to [] if you want auto init)\n",
    "v = [] # diagonal of inducing variables (set to [] if you want auto init)\n",
    "mu = []\n",
    "s2 = [] #10.0*ones(nZ, num_lower_dim)\n",
    "vn = vn_true #noise variance\n",
    "m0 = [] # initial prior for m (Set to [] if you want auto)\n",
    "v0 = [] # intiial prior for v (Set to [] if you want auto)\n",
    "mu0 = []\n",
    "s20 = [] #.1*ones(nZ, num_lower_dim)\n",
    "init_method = \"random\"# \"random\" for random initialization, \"mds\" for MDS initialization\n",
    "mds_vn = 0.01\n",
    "\n",
    "params = vbmds.VBMDSMixParams(Xu, num_lower_dim, \n",
    "lbfunc, kfunc, \n",
    "hyp, \n",
    "m, v, \n",
    "mu, s2,\n",
    "vn, \n",
    "m0, v0,\n",
    "mu0, s20,\n",
    "init_method, mds_vn)\n",
    "println(\"Parameters Set up!\")"
   ]
  },
  {
   "cell_type": "code",
   "execution_count": 11,
   "metadata": {
    "collapsed": false
   },
   "outputs": [
    {
     "data": {
      "text/plain": [
       "101.0"
      ]
     },
     "execution_count": 11,
     "metadata": {},
     "output_type": "execute_result"
    }
   ],
   "source": [
    "nnhyplb = -10*ones(length(params.hyp))#sqrt(0.01),\n",
    "nnhypub = 10*ones(length(params.hyp))#sqrt(100.0)\n",
    "nnhyplb[end] = slb \n",
    "nnhypub[end] = slb + 100"
   ]
  },
  {
   "cell_type": "code",
   "execution_count": 12,
   "metadata": {
    "collapsed": false
   },
   "outputs": [
    {
     "data": {
      "text/plain": [
       "1×3 Array{Float64,2}:\n",
       " -1.0  0.5  3.0"
      ]
     },
     "execution_count": 12,
     "metadata": {},
     "output_type": "execute_result"
    }
   ],
   "source": [
    "Xfeat[2:2,:]"
   ]
  },
  {
   "cell_type": "code",
   "execution_count": 13,
   "metadata": {
    "collapsed": false,
    "scrolled": true
   },
   "outputs": [
    {
     "name": "stdout",
     "output_type": "stream",
     "text": [
      "Creating Parameters\n",
      "Setting up Fixed Variables\n",
      "Outer Iteration: 1\n",
      "Local Sample Iteration: 1\n",
      "Iter     Function value   Gradient norm \n",
      "     0     4.511947e+03     3.951974e+00\n",
      "     1     3.150782e+03     2.374513e+00\n",
      "     2     2.905483e+03     2.094613e+00\n",
      "     3     2.676727e+03     2.555165e+00\n",
      "     4     2.485230e+03     2.256386e+00\n",
      "     5     2.381765e+03     1.423375e+00\n",
      "     6     2.336474e+03     1.436819e+00\n",
      "     7     2.306740e+03     6.535768e-01\n",
      "     8     2.284819e+03     7.435374e-01\n",
      "     9     2.265733e+03     7.392042e-01\n",
      "    10     2.237044e+03     5.008416e-01\n",
      "Number Function Calls: 38\n",
      "Number Gradient Calls: 38\n",
      "Iter     Function value   Gradient norm \n",
      "     0     3.606584e+05     1.443397e+06\n"
     ]
    },
    {
     "ename": "LoadError",
     "evalue": "InterruptException:",
     "output_type": "error",
     "traceback": [
      "InterruptException:",
      "",
      " in #lognormalEucMixLB#4(::Bool, ::Float64, ::Int64, ::Int64, ::Int64, ::Int64, ::Int64, ::Function, ::Array{Float64,2}, ::Array{Float64,2}, ::Int64, ::vbmds.#seNNkernel, ::Array{ForwardDiff.Dual{10,Float64},1}, ::Array{Float64,2}, ::Array{Float64,2}, ::Array{Float64,2}, ::Array{Float64,2}, ::Array{Float64,2}, ::Float64, ::Array{Float64,1}, ::Array{Float64,1}, ::Array{Float64,1}, ::Array{Float64,1}) at /Users/haroldsoh/Google Drive/Development/vbmds/src/lowerbounds/lognormalEucMixLB.jl:197",
      " in (::vbmds.##optHypFunc#19#35{Array{Float64,1},Array{Float64,1},Array{Float64,2},Int64,vbmds.#seNNkernel,Array{Float64,2},vbmds.#lognormalEucMixLB})(::Bool, ::Function, ::Array{ForwardDiff.Dual{10,Float64},1}) at /Users/haroldsoh/Google Drive/Development/vbmds/src/mdsmodels/vbmdsmix.jl:429",
      " in vector_mode_gradient! at /Users/haroldsoh/.julia/v0.5/ForwardDiff/src/gradient.jl:66 [inlined]",
      " in gradient!(::DiffBase.DiffResult{1,Float64,Tuple{Array{Float64,1}}}, ::vbmds.#optHypFunc#34, ::Array{Float64,1}, ::ForwardDiff.GradientConfig{10,Float64,Array{ForwardDiff.Dual{10,Float64},1}}) at /Users/haroldsoh/.julia/v0.5/ForwardDiff/src/gradient.jl:15",
      " in (::Optim.##81#84{Float64,vbmds.#optHypFunc#34})(::Array{Float64,1}, ::Array{Float64,1}) at /Users/haroldsoh/.julia/v0.5/Optim/src/optimize.jl:108",
      " in linefunc!(::Optim.DifferentiableFunction, ::Array{Float64,1}, ::Array{Float64,1}, ::Float64, ::Array{Float64,1}, ::Array{Float64,1}, ::Bool) at /Users/haroldsoh/.julia/v0.5/LineSearches/src/hagerzhang.jl:496",
      " in secant2!(::Optim.DifferentiableFunction, ::Array{Float64,1}, ::Array{Float64,1}, ::Array{Float64,1}, ::Array{Float64,1}, ::LineSearches.LineSearchResults{Float64}, ::Int64, ::Int64, ::Float64, ::Float64, ::Float64, ::Int64) at /Users/haroldsoh/.julia/v0.5/LineSearches/src/hagerzhang.jl:324",
      " in hagerzhang!(::Optim.DifferentiableFunction, ::Array{Float64,1}, ::Array{Float64,1}, ::Array{Float64,1}, ::Array{Float64,1}, ::LineSearches.LineSearchResults{Float64}, ::Float64, ::Bool, ::Float64, ::Float64, ::Float64, ::Float64, ::Float64, ::Float64, ::Int64, ::Float64, ::Int64, ::Int64) at /Users/haroldsoh/.julia/v0.5/LineSearches/src/hagerzhang.jl:220",
      " in hagerzhang!(::Optim.DifferentiableFunction, ::Array{Float64,1}, ::Array{Float64,1}, ::Array{Float64,1}, ::Array{Float64,1}, ::LineSearches.LineSearchResults{Float64}, ::Float64, ::Bool, ::Float64, ::Float64, ::Float64, ::Float64, ::Float64, ::Float64, ::Int64, ::Float64, ::Int64) at /Users/haroldsoh/.julia/v0.5/LineSearches/src/hagerzhang.jl:75 (repeats 4 times)",
      " in update_state!(::Optim.DifferentiableFunction, ::Optim.LBFGSState{Float64}, ::Optim.LBFGS{Void,LineSearches.#hagerzhang!,Optim.##43#45}) at /Users/haroldsoh/.julia/v0.5/Optim/src/l_bfgs.jl:186",
      " in optimize(::Optim.DifferentiableFunction, ::Array{Float64,1}, ::Optim.LBFGS{Void,LineSearches.#hagerzhang!,Optim.##43#45}, ::Optim.Options{Void}) at /Users/haroldsoh/.julia/v0.5/Optim/src/optimize.jl:200",
      " in optimize(::vbmds.#optHypFunc#34, ::Array{Float64,1}, ::Optim.LBFGS{Void,LineSearches.#hagerzhang!,Optim.##43#45}, ::Optim.Options{Void}) at /Users/haroldsoh/.julia/v0.5/Optim/src/optimize.jl:121",
      " in (::vbmds.#optimizeHyp#40{Optim.LBFGS{Void,LineSearches.#hagerzhang!,Optim.##43#45},Int64,Bool,Array{Float64,1},Array{Float64,1},vbmds.#invsigmtrans#24})(::Array{Float64,1}) at /Users/haroldsoh/Google Drive/Development/vbmds/src/mdsmodels/vbmdsmix.jl:562",
      " in (::vbmds.#learn#41{Int64,Int64,Int64,Bool,Bool,Bool,Array{Float64,2},Int64,vbmds.#setupFixedKernelVars#30{Array{Float64,2},Int64,vbmds.#seNNkernel,Array{Float64,2}},vbmds.#optimizeGP#38{Optim.LBFGS{Void,LineSearches.#hagerzhang!,Optim.##43#45},Int64,Int64,Bool,vbmds.#optGPGrad!#33{Array{Float64,2},Int64,vbmds.#seNNkernel,Array{Float64,2},vbmds.#lognormalEucMixLB,vbmds.#gradsToTheta#26}},vbmds.#optimizeNoise#39{Optim.LBFGS{Void,LineSearches.#hagerzhang!,Optim.##43#45},Int64,Bool,Float64,Float64,vbmds.#invsigmtrans#24,vbmds.#optNoiseFunc#37{Float64,Float64,Int64,vbmds.#lognormalEucMixLB}},vbmds.#optimizeHyp#40{Optim.LBFGS{Void,LineSearches.#hagerzhang!,Optim.##43#45},Int64,Bool,Array{Float64,1},Array{Float64,1},vbmds.#invsigmtrans#24}})(::Array{Float64,1}, ::Float64, ::Array{Float64,1}) at /Users/haroldsoh/Google Drive/Development/vbmds/src/mdsmodels/vbmdsmix.jl:631",
      " in #VBMDSMix#15(::Optim.LBFGS{Void,LineSearches.#hagerzhang!,Optim.##43#45}, ::Int64, ::Int64, ::Int64, ::Int64, ::Int64, ::Int64, ::Int64, ::Bool, ::Bool, ::Bool, ::Float64, ::Float64, ::Float64, ::Float64, ::Float64, ::Float64, ::Array{Float64,1}, ::Array{Float64,1}, ::vbmds.#VBMDSMix, ::Array{Float64,2}, ::Array{Float64,2}, ::Int64, ::vbmds.VBMDSMixParams) at /Users/haroldsoh/Google Drive/Development/vbmds/src/mdsmodels/vbmdsmix.jl:730",
      " in (::vbmds.#kw##VBMDSMix)(::Array{Any,1}, ::vbmds.#VBMDSMix, ::Array{Float64,2}, ::Array{Float64,2}, ::Int64, ::vbmds.VBMDSMixParams) at ./<missing>:0"
     ]
    }
   ],
   "source": [
    "Xfeat_local = Xfeat[1:end-2,:]\n",
    "#Xfeat_local = []\n",
    "nXfeat = size(Xfeat_local,1)\n",
    "\n",
    "nZ = nX\n",
    "params = vbmds.VBMDSMix(D, Xfeat_local, nZ, params; \n",
    "opt_method=LBFGS(),\n",
    "sample_size = 300, #run on all \n",
    "num_iterations= 10, \n",
    "opt_iterations = 10,\n",
    "opt_hyp_iterations = 10,\n",
    "opt_vn_iterations = 10,\n",
    "local_iterations= 1, \n",
    "report_interval=100, \n",
    "fixed_noise = false,\n",
    "fixed_hyp = false,\n",
    "show_trace = true,\n",
    "vlb = 1.0e-2,\n",
    "vub = 1.0,\n",
    "s2lb = 1.0e-4,\n",
    "s2ub = 10.0,\n",
    "vnlb = 1.0e-5,\n",
    "vnub = 2*vn_true,\n",
    "hyplb = nnhyplb,#sqrt(0.01),\n",
    "hypub = nnhypub#sqrt(100.0)\n",
    ")\n",
    "\n",
    "println(\"Done Optimizing.\")\n",
    "#run(`say -v Allison \\\"Done Optimizing Lattice \\\"`)\n"
   ]
  },
  {
   "cell_type": "code",
   "execution_count": 986,
   "metadata": {
    "collapsed": false
   },
   "outputs": [
    {
     "name": "stdout",
     "output_type": "stream",
     "text": [
      "Float64[]\n",
      "Float64[]\n",
      "Float64[]\n"
     ]
    }
   ],
   "source": [
    "params.vn\n",
    "println(params.m)\n",
    "println(params.s2)\n",
    "println(params.s2)"
   ]
  },
  {
   "cell_type": "code",
   "execution_count": 970,
   "metadata": {
    "collapsed": false
   },
   "outputs": [
    {
     "name": "stdout",
     "output_type": "stream",
     "text": [
      "Using GP\n"
     ]
    },
    {
     "data": {
      "image/png": "[encoded data removed]",
      "text/plain": [
       "Winston.FramedPlot(...)"
      ]
     },
     "execution_count": 970,
     "metadata": {},
     "output_type": "execute_result"
    }
   ],
   "source": [
    "# Prediction\n",
    "p = 0\n",
    "\n",
    "#plotting via Winston\n",
    "hold(false)\n",
    "if Xfeat_local != []\n",
    "    (mZ_pred, vZ_pred) = vbmds.VBMDSMix(0, Xfeat, nZ, params)\n",
    "    vZ_pred = abs(vZ_pred)\n",
    "    println(\"Using GP\")\n",
    "    errbarsx = SymmetricErrorBarsX(mZ_pred[:,1], mZ_pred[:,2], 2*sqrt(vZ_pred[:,1]))\n",
    "    errbarsy = SymmetricErrorBarsY(mZ_pred[:,1], mZ_pred[:,2], 2*sqrt(vZ_pred[:,2]))\n",
    "\n",
    "    p = scatter(mZ_pred[:,1], mZ_pred[:,2])\n",
    "    hold(true)\n",
    "    #add(p, errbarsx)\n",
    "    #add(p, errbarsy)\n",
    "end\n",
    "\n",
    "if nZ > nXfeat\n",
    "    p = scatter(params.mu[:,1], params.mu[:,2])\n",
    "\n",
    "    hold(true)\n",
    "    errbarsx_z = SymmetricErrorBarsX(params.mu[:,1], params.mu[:,2], sqrt(params.s2[:,1]))\n",
    "    errbarsy_z = SymmetricErrorBarsY(params.mu[:,1], params.mu[:,2], sqrt(params.s2[:,2]))\n",
    "    #add(p, errbarsx_z)\n",
    "    #add(p, errbarsy_z)\n",
    "end\n",
    "p"
   ]
  },
  {
   "cell_type": "code",
   "execution_count": 971,
   "metadata": {
    "collapsed": false
   },
   "outputs": [
    {
     "data": {
      "text/plain": [
       "3×3 Array{Float64,2}:\n",
       " -2.99594  1.0  6.2\n",
       " -1.05556  1.0  3.0\n",
       " -2.05556  0.6  4.0"
      ]
     },
     "execution_count": 971,
     "metadata": {},
     "output_type": "execute_result"
    }
   ],
   "source": [
    "Xoos = [3.1 3.1;\n",
    "        1.5 1.5;\n",
    "        1.5 2.5\n",
    "        ]\n",
    "Xfeat_oos = getFeatures(Xoos, Nirr=Nirr)"
   ]
  },
  {
   "cell_type": "code",
   "execution_count": 972,
   "metadata": {
    "collapsed": false
   },
   "outputs": [
    {
     "name": "stdout",
     "output_type": "stream",
     "text": [
      "Using GP\n"
     ]
    },
    {
     "data": {
      "image/png": "[encoded data removed]",
      "text/plain": [
       "Winston.FramedPlot(...)"
      ]
     },
     "execution_count": 972,
     "metadata": {},
     "output_type": "execute_result"
    }
   ],
   "source": [
    "# prediction with out-of-sample points \n",
    "#plotting via Winston\n",
    "hold(true)\n",
    "if Xfeat_local != []\n",
    "    (mZ_pred, vZ_pred) = vbmds.VBMDSMix(0, Xfeat_oos, nZ, params)\n",
    "    println(\"Using GP\")\n",
    "    errbarsx = SymmetricErrorBarsX(mZ_pred[:,1], mZ_pred[:,2], 2*sqrt(vZ_pred[:,1]))\n",
    "    errbarsy = SymmetricErrorBarsY(mZ_pred[:,1], mZ_pred[:,2], 2*sqrt(vZ_pred[:,2]))\n",
    "\n",
    "    p = plot(mZ_pred[:,1], mZ_pred[:,2], \"r^\")\n",
    "    hold(true)\n",
    "    #add(p, errbarsx)\n",
    "    #add(p, errbarsy)\n",
    "end\n",
    "p"
   ]
  },
  {
   "cell_type": "code",
   "execution_count": 962,
   "metadata": {
    "collapsed": false
   },
   "outputs": [
    {
     "data": {
      "text/plain": [
       "3×2 Array{Float64,2}:\n",
       "  -1.68519  -1.25839\n",
       "  -9.72664  26.9059 \n",
       " -13.0734   18.6087 "
      ]
     },
     "execution_count": 962,
     "metadata": {},
     "output_type": "execute_result"
    }
   ],
   "source": [
    "mZ_pred"
   ]
  },
  {
   "cell_type": "code",
   "execution_count": 173,
   "metadata": {
    "collapsed": false
   },
   "outputs": [
    {
     "data": {
      "text/plain": [
       "2×2 Array{Int64,2}:\n",
       " 1  3\n",
       " 2  4"
      ]
     },
     "execution_count": 173,
     "metadata": {},
     "output_type": "execute_result"
    }
   ],
   "source": [
    "\n",
    "a = [1,2,3,4]\n",
    "a = reshape(a, length())"
   ]
  },
  {
   "cell_type": "code",
   "execution_count": 258,
   "metadata": {
    "collapsed": false
   },
   "outputs": [
    {
     "data": {
      "text/plain": [
       "3-element Array{Float64,1}:\n",
       " 1.0\n",
       " 2.0\n",
       " 3.0"
      ]
     },
     "execution_count": 258,
     "metadata": {},
     "output_type": "execute_result"
    }
   ],
   "source": [
    "a = [[]; [1,2,3]]\n",
    "Array{Float64}(a)"
   ]
  },
  {
   "cell_type": "code",
   "execution_count": null,
   "metadata": {
    "collapsed": true
   },
   "outputs": [],
   "source": []
  }
 ],
 "metadata": {
  "anaconda-cloud": {},
  "kernelspec": {
   "display_name": "Julia 0.5.0",
   "language": "julia",
   "name": "julia-0.5"
  },
  "language_info": {
   "file_extension": ".jl",
   "mimetype": "application/julia",
   "name": "julia",
   "version": "0.5.0"
  }
 },
 "nbformat": 4,
 "nbformat_minor": 0
}
