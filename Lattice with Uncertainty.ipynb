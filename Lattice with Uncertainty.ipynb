{
 "cells": [
  {
   "cell_type": "markdown",
   "metadata": {},
   "source": [
    "# 2-D Lattice Test #\n",
    "\n",
    "In this example, we run the VBMDS-GP with the 2-D Lattice as a test"
   ]
  },
  {
   "cell_type": "code",
   "execution_count": 1,
   "metadata": {
    "collapsed": false
   },
   "outputs": [],
   "source": [
    "using Winston\n",
    "using Distances\n",
    "using Distributions\n",
    "using Optim"
   ]
  },
  {
   "cell_type": "code",
   "execution_count": 709,
   "metadata": {
    "collapsed": false
   },
   "outputs": [
    {
     "name": "stdout",
     "output_type": "stream",
     "text": [
      "3000\n"
     ]
    }
   ],
   "source": [
    "# create dataset\n",
    "# generate simple grid\n",
    "nX = 5^2\n",
    "X = zeros(nX,2)\n",
    "k = 1\n",
    "for i = 1:sqrt(nX), j = 1:sqrt(nX)\n",
    "    X[k,:] = 1.0*[i, j]\n",
    "    k = k+1\n",
    "end\n",
    "\n",
    "Mdist = pairwise(Euclidean(), X').^2\n",
    "k=1\n",
    "\n",
    "nreps = 5\n",
    "#nD = round(Int,((nX^2) - nX)/2)*nreps\n",
    "nD = (nX^2 - nX)*nreps\n",
    "println(nD)\n",
    "D = zeros(nD, 3)\n",
    "vn_true = 0.1\n",
    "for reps = 1:nreps\n",
    "    for i = 1:nX, j = 1:nX\n",
    "        if i!=j\n",
    "            d = LogNormal(log(Mdist[i,j]), sqrt(vn_true))\n",
    "            D[k,:] = [i, j, rand(d) ]\n",
    "            k = k+1\n",
    "        end\n",
    "    end\n",
    "end\n"
   ]
  },
  {
   "cell_type": "code",
   "execution_count": 710,
   "metadata": {
    "collapsed": false
   },
   "outputs": [
    {
     "data": {
      "text/plain": [
       "3000×3 Array{Float64,2}:\n",
       "  1.0   2.0   0.729917\n",
       "  1.0   3.0   4.08805 \n",
       "  1.0   4.0   7.84625 \n",
       "  1.0   5.0  11.1835  \n",
       "  1.0   6.0   1.20647 \n",
       "  1.0   7.0   1.88962 \n",
       "  1.0   8.0   7.38063 \n",
       "  1.0   9.0  13.7957  \n",
       "  1.0  10.0  32.5742  \n",
       "  1.0  11.0   1.82368 \n",
       "  1.0  12.0   5.9906  \n",
       "  1.0  13.0   6.14046 \n",
       "  1.0  14.0  22.0247  \n",
       "  ⋮                   \n",
       " 25.0  13.0   8.0118  \n",
       " 25.0  14.0   5.20686 \n",
       " 25.0  15.0   4.09002 \n",
       " 25.0  16.0  27.3568  \n",
       " 25.0  17.0  16.0855  \n",
       " 25.0  18.0   6.06585 \n",
       " 25.0  19.0   1.69998 \n",
       " 25.0  20.0   1.11431 \n",
       " 25.0  21.0  16.6444  \n",
       " 25.0  22.0  12.7151  \n",
       " 25.0  23.0   4.90942 \n",
       " 25.0  24.0   0.924596"
      ]
     },
     "execution_count": 710,
     "metadata": {},
     "output_type": "execute_result"
    }
   ],
   "source": [
    "D"
   ]
  },
  {
   "cell_type": "code",
   "execution_count": 711,
   "metadata": {
    "collapsed": false
   },
   "outputs": [
    {
     "data": {
      "text/plain": [
       "25×2 Array{Float64,2}:\n",
       " 1.0  1.0\n",
       " 1.0  2.0\n",
       " 1.0  3.0\n",
       " 1.0  4.0\n",
       " 1.0  5.0\n",
       " 2.0  1.0\n",
       " 2.0  2.0\n",
       " 2.0  3.0\n",
       " 2.0  4.0\n",
       " 2.0  5.0\n",
       " 3.0  1.0\n",
       " 3.0  2.0\n",
       " 3.0  3.0\n",
       " 3.0  4.0\n",
       " 3.0  5.0\n",
       " 4.0  1.0\n",
       " 4.0  2.0\n",
       " 4.0  3.0\n",
       " 4.0  4.0\n",
       " 4.0  5.0\n",
       " 5.0  1.0\n",
       " 5.0  2.0\n",
       " 5.0  3.0\n",
       " 5.0  4.0\n",
       " 5.0  5.0"
      ]
     },
     "execution_count": 711,
     "metadata": {},
     "output_type": "execute_result"
    }
   ],
   "source": [
    "X # this are the true underlying positions. "
   ]
  },
  {
   "cell_type": "code",
   "execution_count": 712,
   "metadata": {
    "collapsed": false
   },
   "outputs": [
    {
     "name": "stderr",
     "output_type": "stream",
     "text": [
      "WARNING: Method definition getFeatures(Any) in module Main at In[694]:2 overwritten at In[712]:2.\n",
      "WARNING: Method definition #getFeatures(Array{Any, 1}, Main.#getFeatures, Any) in module Main overwritten.\n"
     ]
    },
    {
     "data": {
      "text/plain": [
       "getFeatures (generic function with 2 methods)"
      ]
     },
     "execution_count": 712,
     "metadata": {},
     "output_type": "execute_result"
    }
   ],
   "source": [
    "function getFeatures(X; Nirr=0)\n",
    "    feat = [1.0./X[:,1].^2-X[:,2] X[:,1]./X[:,2] X[:,1]+X[:,2]]\n",
    "    feat = hcat(feat, 10*rand(size(X,1), Nirr))\n",
    "end"
   ]
  },
  {
   "cell_type": "code",
   "execution_count": 713,
   "metadata": {
    "collapsed": false
   },
   "outputs": [
    {
     "data": {
      "text/plain": [
       "25×3 Array{Float64,2}:\n",
       "  0.0       1.0        2.0\n",
       " -1.0       0.5        3.0\n",
       " -2.0       0.333333   4.0\n",
       " -3.0       0.25       5.0\n",
       " -4.0       0.2        6.0\n",
       " -0.75      2.0        3.0\n",
       " -1.75      1.0        4.0\n",
       " -2.75      0.666667   5.0\n",
       " -3.75      0.5        6.0\n",
       " -4.75      0.4        7.0\n",
       " -0.888889  3.0        4.0\n",
       " -1.88889   1.5        5.0\n",
       " -2.88889   1.0        6.0\n",
       " -3.88889   0.75       7.0\n",
       " -4.88889   0.6        8.0\n",
       " -0.9375    4.0        5.0\n",
       " -1.9375    2.0        6.0\n",
       " -2.9375    1.33333    7.0\n",
       " -3.9375    1.0        8.0\n",
       " -4.9375    0.8        9.0\n",
       " -0.96      5.0        6.0\n",
       " -1.96      2.5        7.0\n",
       " -2.96      1.66667    8.0\n",
       " -3.96      1.25       9.0\n",
       " -4.96      1.0       10.0"
      ]
     },
     "execution_count": 713,
     "metadata": {},
     "output_type": "execute_result"
    }
   ],
   "source": [
    "Nirr = 0\n",
    "Xtest = getFeatures(X, Nirr=Nirr)"
   ]
  },
  {
   "cell_type": "code",
   "execution_count": 714,
   "metadata": {
    "collapsed": false
   },
   "outputs": [
    {
     "name": "stdout",
     "output_type": "stream",
     "text": [
      "Num Inducing inputs: 25\n"
     ]
    }
   ],
   "source": [
    "# side information\n",
    "# nonlinear transformation of the input coordinates\n",
    "#Xtest = [2*X[:,1].^2-X[:,2] X[:,1].*X[:,2] X[:,1]+X[:,2]]\n",
    "\n",
    "#for i=1:size(Xtest,2)\n",
    "#    Xtest[:,i] = (Xtest[:,i] - mean(Xtest[:,i]))./(1.0+maximum(Xtest[:,i]))\n",
    "#end\n",
    "Xfeat = Xtest\n",
    "\n",
    "# We set the inducing input locations with some noise\n",
    "Xu = Xtest # inducing input locations\n",
    "Xu = Xu + 0.05*rand(size(Xu))\n",
    "println(\"Num Inducing inputs: \",size(Xu,1))"
   ]
  },
  {
   "cell_type": "code",
   "execution_count": 715,
   "metadata": {
    "collapsed": false
   },
   "outputs": [
    {
     "data": {
      "text/plain": [
       "25×3 Array{Float64,2}:\n",
       "  0.0       1.0        2.0\n",
       " -1.0       0.5        3.0\n",
       " -2.0       0.333333   4.0\n",
       " -3.0       0.25       5.0\n",
       " -4.0       0.2        6.0\n",
       " -0.75      2.0        3.0\n",
       " -1.75      1.0        4.0\n",
       " -2.75      0.666667   5.0\n",
       " -3.75      0.5        6.0\n",
       " -4.75      0.4        7.0\n",
       " -0.888889  3.0        4.0\n",
       " -1.88889   1.5        5.0\n",
       " -2.88889   1.0        6.0\n",
       " -3.88889   0.75       7.0\n",
       " -4.88889   0.6        8.0\n",
       " -0.9375    4.0        5.0\n",
       " -1.9375    2.0        6.0\n",
       " -2.9375    1.33333    7.0\n",
       " -3.9375    1.0        8.0\n",
       " -4.9375    0.8        9.0\n",
       " -0.96      5.0        6.0\n",
       " -1.96      2.5        7.0\n",
       " -2.96      1.66667    8.0\n",
       " -3.96      1.25       9.0\n",
       " -4.96      1.0       10.0"
      ]
     },
     "execution_count": 715,
     "metadata": {},
     "output_type": "execute_result"
    }
   ],
   "source": [
    "Xfeat"
   ]
  },
  {
   "cell_type": "code",
   "execution_count": 856,
   "metadata": {
    "collapsed": false
   },
   "outputs": [
    {
     "name": "stderr",
     "output_type": "stream",
     "text": [
      "WARNING: replacing module vbmds\n"
     ]
    },
    {
     "data": {
      "text/plain": [
       "vbmds"
      ]
     },
     "execution_count": 856,
     "metadata": {},
     "output_type": "execute_result"
    }
   ],
   "source": [
    "include(\"vbmds.jl\") # load in the VBMDS code\n"
   ]
  },
  {
   "cell_type": "code",
   "execution_count": 925,
   "metadata": {
    "collapsed": false
   },
   "outputs": [
    {
     "name": "stdout",
     "output_type": "stream",
     "text": [
      "Parameters Set up!\n"
     ]
    }
   ],
   "source": [
    "# set up parameters\n",
    "srand(0)\n",
    "\n",
    "nZ = nX # number of latent points\n",
    "num_lower_dim = 2 # number of latent dimensions\n",
    "\n",
    "lbfunc = vbmds.lognormalEucMixLB #likelihood lower bound\n",
    "#lbfunc = vbmds.normalSqEucLB\n",
    "\n",
    "kfunc = vbmds.seNNkernel\n",
    "slb = 1.0\n",
    "hyp = rand(size(Xfeat,2).^2)\n",
    "hyp = vcat(hyp, [slb])\n",
    "\n",
    "#kfunc = vbmds.seARDkernel # kernel function\n",
    "#hyp = rand(size(Xfeat,2))# hyperparameters\n",
    "\n",
    "#kfunc = vbmds.sekernel # kernel function\n",
    "#hyp = [2.0]# hyperparameters\n",
    "\n",
    "#vcat(hyp, [0.02])\n",
    "#kfunc = vbmds.sekernel\n",
    "#hyp=[0.02]\n",
    "m = [] # mean of inducing variables (set to [] if you want auto init)\n",
    "v = [] # diagonal of inducing variables (set to [] if you want auto init)\n",
    "mu = []\n",
    "s2 = [] #10.0*ones(nZ, num_lower_dim)\n",
    "vn = vn_true #noise variance\n",
    "m0 = [] # initial prior for m (Set to [] if you want auto)\n",
    "v0 = [] # intiial prior for v (Set to [] if you want auto)\n",
    "mu0 = []\n",
    "s20 = [] #.1*ones(nZ, num_lower_dim)\n",
    "init_method = \"random\"# \"random\" for random initialization, \"mds\" for MDS initialization\n",
    "mds_vn = 0.01\n",
    "\n",
    "params = vbmds.VBMDSMixParams(Xu, num_lower_dim, \n",
    "lbfunc, kfunc, \n",
    "hyp, \n",
    "m, v, \n",
    "mu, s2,\n",
    "vn, \n",
    "m0, v0,\n",
    "mu0, s20,\n",
    "init_method, mds_vn)\n",
    "println(\"Parameters Set up!\")"
   ]
  },
  {
   "cell_type": "code",
   "execution_count": 926,
   "metadata": {
    "collapsed": false
   },
   "outputs": [
    {
     "data": {
      "text/plain": [
       "101.0"
      ]
     },
     "execution_count": 926,
     "metadata": {},
     "output_type": "execute_result"
    }
   ],
   "source": [
    "nnhyplb = -10*ones(length(params.hyp))#sqrt(0.01),\n",
    "nnhypub = 10*ones(length(params.hyp))#sqrt(100.0)\n",
    "nnhyplb[end] = slb \n",
    "nnhypub[end] = slb + 100"
   ]
  },
  {
   "cell_type": "code",
   "execution_count": 927,
   "metadata": {
    "collapsed": false
   },
   "outputs": [
    {
     "data": {
      "text/plain": [
       "1×3 Array{Float64,2}:\n",
       " -1.0  0.5  3.0"
      ]
     },
     "execution_count": 927,
     "metadata": {},
     "output_type": "execute_result"
    }
   ],
   "source": [
    "Xfeat[2:2,:]"
   ]
  },
  {
   "cell_type": "code",
   "execution_count": 928,
   "metadata": {
    "collapsed": false,
    "scrolled": true
   },
   "outputs": [
    {
     "name": "stdout",
     "output_type": "stream",
     "text": [
      "Creating Parameters\n",
      "Setting up Fixed Variables\n",
      "Outer Iteration: 1\n",
      "Local Sample Iteration: 1\n",
      "Iter     Function value   Gradient norm \n",
      "     0     3.809680e+04     9.414064e+02\n",
      "     1     1.963557e+04     1.686968e+02\n",
      "     2     1.578851e+04     1.415645e+02\n",
      "     3     1.516425e+04     1.148401e+02\n",
      "     4     1.472690e+04     1.231869e+02\n",
      "     5     1.432955e+04     1.247151e+02\n",
      "     6     1.356142e+04     1.240880e+02\n",
      "     7     1.296414e+04     1.233606e+02\n",
      "     8     1.246551e+04     1.290440e+02\n",
      "     9     1.193006e+04     1.433593e+02\n",
      "    10     1.134672e+04     1.167774e+02\n",
      "Number Function Calls: 45\n",
      "Number Gradient Calls: 45\n",
      "Iter     Function value   Gradient norm \n",
      "     0     1.134672e+04     2.075040e+04\n",
      "     1     1.123648e+04     8.736202e+03\n",
      "     2     1.107977e+04     8.743064e+03\n",
      "     3     1.106302e+04     7.966724e+03\n",
      "     4     1.102927e+04     1.102426e+04\n",
      "     5     1.101932e+04     1.050219e+04\n",
      "     6     1.098594e+04     7.634757e+03\n",
      "     7     1.097808e+04     6.125259e+03\n",
      "     8     1.097088e+04     6.043163e+03\n",
      "     9     1.096557e+04     5.888620e+03\n",
      "    10     1.091841e+04     9.262087e+03\n",
      "Creating new kernel matrices with hyp: [0.490832,0.91092,0.223111,-0.0921699,0.153423,0.174703,-0.223044,0.162285,0.184851,1.0]\n",
      "Curr hyp: [0.490832,0.91092,0.223111,-0.0921699,0.153423,0.174703,-0.223044,0.162285,0.184851,1.0]\n",
      "Iter     Function value   Gradient norm \n",
      "     0     1.134672e+04     6.306770e+03\n",
      "     1     5.329357e+03     0.000000e+00\n",
      "Curr vn: 0.1999999\n",
      "2: 11346.719553747842\n",
      "Outer Iteration: 2\n",
      "Local Sample Iteration: 1\n",
      "Iter     Function value   Gradient norm \n",
      "     0     5.115201e+03     5.618214e+01\n",
      "     1     4.496780e+03     8.814729e+01\n",
      "     2     4.058630e+03     6.249758e+01\n",
      "     3     3.508897e+03     5.756288e+01\n",
      "     4     3.108130e+03     6.165308e+01\n",
      "     5     2.384542e+03     6.066382e+01\n",
      "     6     2.190999e+03     4.894478e+01\n",
      "     7     2.004188e+03     9.963297e+01\n",
      "     8     1.849606e+03     6.884013e+01\n",
      "     9     1.729010e+03     5.390676e+01\n",
      "    10     1.576514e+03     5.919670e+01\n",
      "Number Function Calls: 40\n",
      "Number Gradient Calls: 40\n",
      "Iter     Function value   Gradient norm \n",
      "     0     1.576514e+03     3.825239e+04\n",
      "     1     1.558507e+03     3.291044e+04\n",
      "     2     1.518125e+03     2.148032e+04\n",
      "     3     1.507973e+03     1.987776e+04\n",
      "     4     1.502291e+03     1.043996e+04\n",
      "     5     1.500454e+03     6.337997e+03\n",
      "     6     1.500103e+03     5.968402e+03\n",
      "     7     1.499121e+03     5.275461e+03\n",
      "     8     1.497286e+03     6.875636e+03\n",
      "     9     1.497256e+03     6.368605e+03\n",
      "    10     1.485755e+03     2.267350e+03\n",
      "Creating new kernel matrices with hyp: [0.59983,0.964033,0.147986,-0.271921,0.213299,0.136872,-0.220415,0.148211,0.14547,1.0]\n",
      "Curr hyp: [0.59983,0.964033,0.147986,-0.271921,0.213299,0.136872,-0.220415,0.148211,0.14547,1.0]\n",
      "Iter     Function value   Gradient norm \n",
      "     0     1.576514e+03     1.034347e-03\n",
      "     1     1.576514e+03     0.000000e+00\n",
      "Curr vn: 0.1999999\n",
      "3: 1576.514026369301\n",
      "Outer Iteration: 3\n",
      "Local Sample Iteration: 1\n",
      "Iter     Function value   Gradient norm \n",
      "     0     1.485755e+03     4.287611e+01\n",
      "     1     1.250877e+03     5.435780e+01\n",
      "     2     1.143330e+03     4.038866e+01\n",
      "     3     1.099515e+03     3.244664e+01\n",
      "     4     1.063998e+03     3.041692e+01\n",
      "     5     1.024425e+03     2.421972e+01\n",
      "     6     9.846769e+02     2.080834e+01\n",
      "     7     9.524279e+02     1.150947e+01\n",
      "     8     9.449170e+02     9.990779e+00\n",
      "     9     9.320286e+02     1.002446e+01\n",
      "    10     9.144154e+02     7.099553e+00\n",
      "Number Function Calls: 37\n",
      "Number Gradient Calls: 37\n",
      "Iter     Function value   Gradient norm \n",
      "     0     9.144154e+02     3.387481e+03\n",
      "     1     9.046298e+02     2.952059e+03\n",
      "     2     9.007771e+02     1.497920e+03\n",
      "     3     8.912226e+02     1.559965e+03\n",
      "     4     8.903353e+02     1.327193e+03\n",
      "     5     8.893739e+02     1.056751e+03\n",
      "     6     8.879103e+02     4.701131e+02\n",
      "     7     8.876356e+02     7.832527e+02\n",
      "     8     8.872281e+02     5.931562e+02\n",
      "     9     8.872234e+02     6.037217e+02\n",
      "    10     8.865873e+02     6.363080e+02\n",
      "Creating new kernel matrices with hyp: [0.727837,0.903307,0.112117,-0.478087,0.126919,0.210817,-0.252134,0.164567,0.11275,1.0]\n",
      "Curr hyp: [0.727837,0.903307,0.112117,-0.478087,0.126919,0.210817,-0.252134,0.164567,0.11275,1.0]\n",
      "Iter     Function value   Gradient norm \n",
      "     0     9.144154e+02     7.577620e-04\n",
      "     1     9.144154e+02     0.000000e+00\n",
      "Curr vn: 0.1999999\n",
      "4: 914.4154008526259\n",
      "Outer Iteration: 4\n",
      "Local Sample Iteration: 1\n",
      "Iter     Function value   Gradient norm \n",
      "     0     8.865873e+02     9.939527e+00\n",
      "     1     8.739577e+02     4.419997e+00\n",
      "     2     8.710001e+02     3.941480e+00\n",
      "     3     8.689406e+02     4.490571e+00\n",
      "     4     8.668417e+02     2.870504e+00\n",
      "     5     8.651414e+02     3.813617e+00\n",
      "     6     8.639172e+02     2.487028e+00\n",
      "     7     8.634172e+02     1.501589e+00\n",
      "     8     8.630978e+02     8.908333e-01\n",
      "     9     8.628734e+02     8.415368e-01\n",
      "    10     8.625943e+02     1.335249e+00\n",
      "Number Function Calls: 38\n",
      "Number Gradient Calls: 38\n",
      "Iter     Function value   Gradient norm \n",
      "     0     8.625943e+02     7.752356e+02\n",
      "     1     8.622543e+02     5.390810e+02\n",
      "     2     8.608552e+02     4.586936e+02\n",
      "     3     8.607951e+02     3.678111e+02\n",
      "     4     8.606074e+02     3.652317e+02\n",
      "     5     8.602875e+02     2.678964e+02\n",
      "     6     8.600426e+02     1.378316e+02\n",
      "     7     8.591999e+02     2.082399e+02\n",
      "     8     8.591654e+02     2.496529e+02\n",
      "     9     8.590477e+02     2.209175e+02\n",
      "    10     8.590064e+02     3.087845e+01\n",
      "Creating new kernel matrices with hyp: [0.623069,0.762293,0.117468,-0.268475,0.168455,0.196757,-0.344049,0.101939,0.112795,1.0]\n",
      "Curr hyp: [0.623069,0.762293,0.117468,-0.268475,0.168455,0.196757,-0.344049,0.101939,0.112795,1.0]\n",
      "Iter     Function value   Gradient norm \n",
      "     0     8.625943e+02     7.339784e-04\n",
      "     1     8.625943e+02     0.000000e+00\n",
      "Curr vn: 0.1999999\n",
      "5: 862.5942599064538\n",
      "Outer Iteration: 5\n",
      "Local Sample Iteration: 1\n",
      "Iter     Function value   Gradient norm \n",
      "     0     8.590064e+02     6.886824e+00\n",
      "     1     8.574112e+02     4.484941e+00\n",
      "     2     8.567827e+02     2.932281e+00\n",
      "     3     8.565086e+02     3.737201e+00\n",
      "     4     8.562639e+02     3.403867e+00\n",
      "     5     8.560343e+02     2.299356e+00\n",
      "     6     8.556622e+02     1.028557e+00\n",
      "     7     8.554719e+02     9.063792e-01\n",
      "     8     8.553337e+02     5.159995e-01\n",
      "     9     8.552501e+02     4.909771e-01\n",
      "    10     8.551069e+02     7.222541e-01\n",
      "Number Function Calls: 36\n",
      "Number Gradient Calls: 36\n",
      "Iter     Function value   Gradient norm \n",
      "     0     8.551069e+02     6.383274e+02\n",
      "     1     8.548283e+02     2.773217e+02\n",
      "     2     8.544002e+02     5.662321e+02\n",
      "     3     8.542410e+02     1.476318e+02\n",
      "     4     8.541843e+02     1.577870e+02\n",
      "     5     8.537740e+02     2.552481e+02\n",
      "     6     8.534630e+02     2.094806e+02\n",
      "     7     8.533479e+02     2.507187e+02\n",
      "     8     8.533225e+02     2.975078e+02\n",
      "     9     8.533022e+02     2.890325e+02\n",
      "    10     8.528172e+02     6.881255e+01\n",
      "Creating new kernel matrices with hyp: [0.545151,0.629827,0.125726,-0.0749804,0.228763,0.194513,-0.402866,0.0387697,0.113979,1.0]\n",
      "Curr hyp: [0.545151,0.629827,0.125726,-0.0749804,0.228763,0.194513,-0.402866,0.0387697,0.113979,1.0]\n",
      "Iter     Function value   Gradient norm \n",
      "     0     8.551069e+02     7.314480e-04\n",
      "     1     8.551069e+02     0.000000e+00\n",
      "Curr vn: 0.1999999\n",
      "6: 855.1069178706166\n",
      "Outer Iteration: 6\n",
      "Local Sample Iteration: 1\n",
      "Iter     Function value   Gradient norm \n",
      "     0     8.528172e+02     3.538392e+00\n",
      "     1     8.517502e+02     2.095749e+00\n",
      "     2     8.514594e+02     1.498308e+00\n",
      "     3     8.513307e+02     1.424421e+00\n",
      "     4     8.512300e+02     1.091058e+00\n",
      "     5     8.511363e+02     9.904731e-01\n",
      "     6     8.510452e+02     5.752661e-01\n",
      "     7     8.509848e+02     5.592101e-01\n",
      "     8     8.509286e+02     3.307103e-01\n",
      "     9     8.508811e+02     4.059523e-01\n",
      "    10     8.507854e+02     5.719973e-01\n",
      "Number Function Calls: 37\n",
      "Number Gradient Calls: 37\n",
      "Iter     Function value   Gradient norm \n",
      "     0     8.507854e+02     4.168260e+02\n",
      "     1     8.506180e+02     1.714073e+02\n",
      "     2     8.503539e+02     5.152845e+02\n",
      "     3     8.501667e+02     1.158560e+02\n",
      "     4     8.500855e+02     1.078984e+02\n",
      "     5     8.498904e+02     8.905340e+01\n",
      "     6     8.498171e+02     1.385567e+02\n",
      "     7     8.489925e+02     1.612796e+02\n",
      "     8     8.488814e+02     2.701315e+02\n",
      "     9     8.488656e+02     3.217638e+02\n",
      "    10     8.487128e+02     2.956935e+02\n",
      "Creating new kernel matrices with hyp: [0.484403,0.492961,0.132613,0.163285,0.301518,0.19865,-0.429448,-0.0266739,0.11403,1.0]\n",
      "Curr hyp: [0.484403,0.492961,0.132613,0.163285,0.301518,0.19865,-0.429448,-0.0266739,0.11403,1.0]\n",
      "Iter     Function value   Gradient norm \n",
      "     0     8.507854e+02     7.297780e-04\n",
      "     1     8.507854e+02     0.000000e+00\n",
      "Curr vn: 0.1999999\n",
      "7: 850.7854113409871\n",
      "Outer Iteration: 7\n",
      "Local Sample Iteration: 1\n",
      "Iter     Function value   Gradient norm \n",
      "     0     8.487128e+02     4.972471e+00\n",
      "     1     8.477804e+02     4.142007e+00\n",
      "     2     8.474767e+02     2.972152e+00\n",
      "     3     8.473447e+02     3.378307e+00\n",
      "     4     8.471613e+02     2.654002e+00\n",
      "     5     8.470491e+02     2.343262e+00\n",
      "     6     8.468860e+02     1.075787e+00\n",
      "     7     8.467750e+02     8.624446e-01\n",
      "     8     8.467228e+02     4.857272e-01\n",
      "     9     8.466592e+02     3.861614e-01\n",
      "    10     8.466248e+02     2.576817e-01\n",
      "Number Function Calls: 36\n",
      "Number Gradient Calls: 36\n",
      "Iter     Function value   Gradient norm \n",
      "     0     8.466248e+02     4.310664e+02\n",
      "     1     8.464637e+02     2.829111e+02\n",
      "     2     8.458553e+02     3.811390e+02\n",
      "     3     8.457851e+02     1.659377e+02\n",
      "     4     8.456886e+02     1.725169e+02\n",
      "     5     8.456036e+02     1.421456e+02\n",
      "     6     8.454744e+02     8.672805e+01\n",
      "     7     8.453145e+02     7.456440e+01\n",
      "     8     8.452303e+02     8.399950e+01\n",
      "     9     8.452299e+02     8.496909e+01\n",
      "    10     8.451152e+02     4.335451e+01\n",
      "Creating new kernel matrices with hyp: [0.517118,0.442487,0.130218,0.274968,0.312455,0.205385,-0.458345,-0.0374767,0.109967,1.0]\n",
      "Curr hyp: [0.517118,0.442487,0.130218,0.274968,0.312455,0.205385,-0.458345,-0.0374767,0.109967,1.0]\n",
      "Iter     Function value   Gradient norm \n",
      "     0     8.466248e+02     7.282753e-04\n",
      "     1     8.466248e+02     0.000000e+00\n",
      "Curr vn: 0.1999999\n",
      "8: 846.6248204217966\n",
      "Outer Iteration: 8\n",
      "Local Sample Iteration: 1\n",
      "Iter     Function value   Gradient norm \n",
      "     0     8.451152e+02     3.992144e+00\n",
      "     1     8.443539e+02     2.540860e+00\n",
      "     2     8.442078e+02     1.825987e+00\n",
      "     3     8.441425e+02     1.588330e+00\n",
      "     4     8.440650e+02     1.649319e+00\n",
      "     5     8.439957e+02     1.516495e+00\n",
      "     6     8.439186e+02     5.322768e-01\n",
      "     7     8.438604e+02     4.658961e-01\n",
      "     8     8.438244e+02     4.798757e-01\n",
      "     9     8.437877e+02     2.627125e-01\n",
      "    10     8.437755e+02     2.669940e-01\n",
      "Number Function Calls: 36\n",
      "Number Gradient Calls: 36\n",
      "Iter     Function value   Gradient norm \n",
      "     0     8.437755e+02     2.680679e+02\n",
      "     1     8.435825e+02     2.449679e+02\n",
      "     2     8.435029e+02     2.215111e+02\n",
      "     3     8.432639e+02     8.207707e+01\n",
      "     4     8.432109e+02     6.011800e+01\n",
      "     5     8.431834e+02     4.170955e+01\n",
      "     6     8.430605e+02     1.098726e+02\n",
      "     7     8.430484e+02     1.107693e+02\n",
      "     8     8.430461e+02     1.153287e+02\n",
      "     9     8.430460e+02     1.157686e+02\n",
      "    10     8.430236e+02     1.267732e+01\n",
      "Creating new kernel matrices with hyp: [0.529599,0.411587,0.130542,0.337601,0.318065,0.209628,-0.490128,-0.0458582,0.108756,1.0]\n",
      "Curr hyp: [0.529599,0.411587,0.130542,0.337601,0.318065,0.209628,-0.490128,-0.0458582,0.108756,1.0]\n",
      "Iter     Function value   Gradient norm \n",
      "     0     8.437755e+02     7.277206e-04\n",
      "     1     8.437755e+02     0.000000e+00\n",
      "Curr vn: 0.1999999\n",
      "9: 843.7755026745008\n",
      "Outer Iteration: 9\n",
      "Local Sample Iteration: 1\n",
      "Iter     Function value   Gradient norm \n",
      "     0     8.430236e+02     3.700507e+00\n",
      "     1     8.425066e+02     1.202434e+00\n",
      "     2     8.424244e+02     7.843101e-01\n",
      "     3     8.423913e+02     3.593207e-01\n",
      "     4     8.423605e+02     3.574220e-01\n",
      "     5     8.423424e+02     2.164547e-01\n",
      "     6     8.423324e+02     1.675860e-01\n",
      "     7     8.423118e+02     3.175625e-01\n",
      "     8     8.422702e+02     3.860327e-01\n",
      "     9     8.422321e+02     2.119658e-01\n",
      "    10     8.422210e+02     2.438970e-01\n",
      "Number Function Calls: 35\n",
      "Number Gradient Calls: 35\n",
      "Iter     Function value   Gradient norm \n",
      "     0     8.422210e+02     2.393224e+02\n",
      "     1     8.420460e+02     2.868288e+02\n",
      "     2     8.419384e+02     2.327059e+02\n",
      "     3     8.417879e+02     5.017185e+01\n",
      "     4     8.417344e+02     4.409641e+01\n",
      "     5     8.417212e+02     3.285295e+01\n",
      "     6     8.416753e+02     5.542022e+01\n",
      "     7     8.416476e+02     6.067702e+01\n",
      "     8     8.416334e+02     7.416087e+01\n",
      "     9     8.416309e+02     8.164548e+01\n",
      "    10     8.416221e+02     3.610677e+00\n",
      "Creating new kernel matrices with hyp: [0.539212,0.386926,0.132547,0.388819,0.31891,0.215042,-0.518471,-0.0528751,0.108563,1.0]\n",
      "Curr hyp: [0.539212,0.386926,0.132547,0.388819,0.31891,0.215042,-0.518471,-0.0528751,0.108563,1.0]\n",
      "Iter     Function value   Gradient norm \n",
      "     0     8.422210e+02     7.272608e-04\n",
      "     1     8.422210e+02     0.000000e+00\n",
      "Curr vn: 0.1999999\n",
      "10: 842.2209781192556\n",
      "Outer Iteration: 10\n",
      "Local Sample Iteration: 1\n",
      "Iter     Function value   Gradient norm \n",
      "     0     8.416221e+02     3.524284e+00\n",
      "     1     8.411801e+02     1.026847e+00\n",
      "     2     8.411042e+02     6.866773e-01\n",
      "     3     8.410745e+02     2.512176e-01\n",
      "     4     8.410589e+02     2.568113e-01\n",
      "     5     8.410499e+02     9.465215e-02\n",
      "     6     8.410462e+02     8.317879e-02\n",
      "     7     8.410416e+02     1.889341e-01\n",
      "     8     8.410289e+02     2.196057e-01\n",
      "     9     8.409915e+02     4.458733e-01\n",
      "    10     8.409680e+02     2.550245e-01\n",
      "Number Function Calls: 36\n",
      "Number Gradient Calls: 36\n",
      "11: 840.967999237268\n",
      "Done, returning optimized parameters\n",
      "Done Optimizing.\n"
     ]
    }
   ],
   "source": [
    "Xfeat_local = Xfeat[1:end-2,:]\n",
    "#Xfeat_local = []\n",
    "nXfeat = size(Xfeat_local,1)\n",
    "\n",
    "nZ = nX\n",
    "params = vbmds.VBMDSMix(D, Xfeat_local, nZ, params; \n",
    "opt_method=LBFGS(),\n",
    "sample_size = -1, #run on all \n",
    "num_iterations= 10, \n",
    "opt_iterations = 10,\n",
    "opt_hyp_iterations = 10,\n",
    "opt_vn_iterations = 10,\n",
    "local_iterations= 1, \n",
    "report_interval=100, \n",
    "fixed_noise = false,\n",
    "fixed_hyp = false,\n",
    "show_trace = true,\n",
    "vlb = 1.0e-2,\n",
    "vub = 1.0,\n",
    "s2lb = 1.0e-4,\n",
    "s2ub = 10.0,\n",
    "vnlb = 1.0e-5,\n",
    "vnub = 2*vn_true,\n",
    "hyplb = nnhyplb,#sqrt(0.01),\n",
    "hypub = nnhypub#sqrt(100.0)\n",
    ")\n",
    "\n",
    "println(\"Done Optimizing.\")\n",
    "#run(`say -v Allison \\\"Done Optimizing Lattice \\\"`)\n"
   ]
  },
  {
   "cell_type": "code",
   "execution_count": 936,
   "metadata": {
    "collapsed": false
   },
   "outputs": [
    {
     "name": "stdout",
     "output_type": "stream",
     "text": [
      "[-2.72953 2.68873; -4.02854 3.46012; -1.79349 4.40557; 1.67395 4.18543; 3.69478 5.40818; -3.97691 1.52703; -1.86693 1.13632; -2.19225 2.36523; 1.94862 2.80411; 2.67311 4.09829; -3.90911 -1.42823; -3.25102 -0.659796; -0.790306 0.201613; 3.67437 0.381163; 3.70251 1.24358; -1.70194 -3.67919; -1.66383 -2.70831; 0.516801 -2.65984; 4.21758 -1.8594; 5.03558 -1.41506; -3.14708 -5.71296; -1.85332 -4.77476; 1.8501 -4.34477; 0.730197 -1.7794; 2.19254 -2.18952]\n",
      "[0.0968701 0.0409658; 0.631174 0.0714792]\n",
      "[0.0968701 0.0409658; 0.631174 0.0714792]\n"
     ]
    }
   ],
   "source": [
    "params.vn\n",
    "println(params.m)\n",
    "println(params.s2)\n",
    "println(params.s2)"
   ]
  },
  {
   "cell_type": "code",
   "execution_count": 930,
   "metadata": {
    "collapsed": false
   },
   "outputs": [
    {
     "name": "stdout",
     "output_type": "stream",
     "text": [
      "Using GP\n"
     ]
    },
    {
     "data": {
      "image/png": "[encoded data removed]",
      "text/plain": [
       "Winston.FramedPlot(...)"
      ]
     },
     "execution_count": 930,
     "metadata": {},
     "output_type": "execute_result"
    }
   ],
   "source": [
    "# Prediction\n",
    "p = 0\n",
    "\n",
    "#plotting via Winston\n",
    "hold(false)\n",
    "if Xfeat_local != []\n",
    "    (mZ_pred, vZ_pred) = vbmds.VBMDSMix(0, Xfeat, nZ, params)\n",
    "    vZ_pred = abs(vZ_pred)\n",
    "    println(\"Using GP\")\n",
    "    errbarsx = SymmetricErrorBarsX(mZ_pred[:,1], mZ_pred[:,2], 2*sqrt(vZ_pred[:,1]))\n",
    "    errbarsy = SymmetricErrorBarsY(mZ_pred[:,1], mZ_pred[:,2], 2*sqrt(vZ_pred[:,2]))\n",
    "\n",
    "    p = scatter(mZ_pred[:,1], mZ_pred[:,2])\n",
    "    hold(true)\n",
    "    #add(p, errbarsx)\n",
    "    #add(p, errbarsy)\n",
    "end\n",
    "\n",
    "if nZ > nXfeat\n",
    "    p = scatter(params.mu[:,1], params.mu[:,2])\n",
    "\n",
    "    hold(true)\n",
    "    errbarsx_z = SymmetricErrorBarsX(params.mu[:,1], params.mu[:,2], sqrt(params.s2[:,1]))\n",
    "    errbarsy_z = SymmetricErrorBarsY(params.mu[:,1], params.mu[:,2], sqrt(params.s2[:,2]))\n",
    "    #add(p, errbarsx_z)\n",
    "    #add(p, errbarsy_z)\n",
    "end\n",
    "p"
   ]
  },
  {
   "cell_type": "code",
   "execution_count": 931,
   "metadata": {
    "collapsed": false
   },
   "outputs": [
    {
     "data": {
      "text/plain": [
       "3×3 Array{Float64,2}:\n",
       " -2.99594  1.0  6.2\n",
       " -1.05556  1.0  3.0\n",
       " -2.05556  0.6  4.0"
      ]
     },
     "execution_count": 931,
     "metadata": {},
     "output_type": "execute_result"
    }
   ],
   "source": [
    "Xoos = [3.1 3.1;\n",
    "        1.5 1.5;\n",
    "        1.5 2.5\n",
    "        ]\n",
    "Xfeat_oos = getFeatures(Xoos, Nirr=Nirr)"
   ]
  },
  {
   "cell_type": "code",
   "execution_count": 932,
   "metadata": {
    "collapsed": false
   },
   "outputs": [
    {
     "name": "stdout",
     "output_type": "stream",
     "text": [
      "Using GP\n"
     ]
    },
    {
     "data": {
      "image/png": "[encoded data removed]",
      "text/plain": [
       "Winston.FramedPlot(...)"
      ]
     },
     "execution_count": 932,
     "metadata": {},
     "output_type": "execute_result"
    }
   ],
   "source": [
    "# prediction with out-of-sample points \n",
    "#plotting via Winston\n",
    "hold(true)\n",
    "if Xfeat_local != []\n",
    "    (mZ_pred, vZ_pred) = vbmds.VBMDSMix(0, Xfeat_oos, nZ, params)\n",
    "    println(\"Using GP\")\n",
    "    errbarsx = SymmetricErrorBarsX(mZ_pred[:,1], mZ_pred[:,2], 2*sqrt(vZ_pred[:,1]))\n",
    "    errbarsy = SymmetricErrorBarsY(mZ_pred[:,1], mZ_pred[:,2], 2*sqrt(vZ_pred[:,2]))\n",
    "\n",
    "    p = plot(mZ_pred[:,1], mZ_pred[:,2], \"r^\")\n",
    "    hold(true)\n",
    "    #add(p, errbarsx)\n",
    "    #add(p, errbarsy)\n",
    "end\n",
    "p"
   ]
  },
  {
   "cell_type": "code",
   "execution_count": 910,
   "metadata": {
    "collapsed": false
   },
   "outputs": [
    {
     "data": {
      "text/plain": [
       "3×2 Array{Float64,2}:\n",
       "     6.79243     -21.7465  \n",
       "     3.12322e5    -3.6687e5\n",
       " -1219.26       1468.39    "
      ]
     },
     "execution_count": 910,
     "metadata": {},
     "output_type": "execute_result"
    }
   ],
   "source": [
    "mZ_pred"
   ]
  },
  {
   "cell_type": "code",
   "execution_count": 173,
   "metadata": {
    "collapsed": false
   },
   "outputs": [
    {
     "data": {
      "text/plain": [
       "2×2 Array{Int64,2}:\n",
       " 1  3\n",
       " 2  4"
      ]
     },
     "execution_count": 173,
     "metadata": {},
     "output_type": "execute_result"
    }
   ],
   "source": [
    "\n",
    "a = [1,2,3,4]\n",
    "a = reshape(a, length())"
   ]
  },
  {
   "cell_type": "code",
   "execution_count": 258,
   "metadata": {
    "collapsed": false
   },
   "outputs": [
    {
     "data": {
      "text/plain": [
       "3-element Array{Float64,1}:\n",
       " 1.0\n",
       " 2.0\n",
       " 3.0"
      ]
     },
     "execution_count": 258,
     "metadata": {},
     "output_type": "execute_result"
    }
   ],
   "source": [
    "a = [[]; [1,2,3]]\n",
    "Array{Float64}(a)"
   ]
  },
  {
   "cell_type": "code",
   "execution_count": null,
   "metadata": {
    "collapsed": true
   },
   "outputs": [],
   "source": []
  }
 ],
 "metadata": {
  "anaconda-cloud": {},
  "kernelspec": {
   "display_name": "Julia 0.5.0",
   "language": "julia",
   "name": "julia-0.5"
  },
  "language_info": {
   "file_extension": ".jl",
   "mimetype": "application/julia",
   "name": "julia",
   "version": "0.5.0"
  }
 },
 "nbformat": 4,
 "nbformat_minor": 0
}
